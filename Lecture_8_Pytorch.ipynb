{
  "nbformat": 4,
  "nbformat_minor": 0,
  "metadata": {
    "kernelspec": {
      "display_name": "PyTorch-GPU",
      "language": "python",
      "name": "pyt-gpu"
    },
    "language_info": {
      "codemirror_mode": {
        "name": "ipython",
        "version": 3
      },
      "file_extension": ".py",
      "mimetype": "text/x-python",
      "name": "python",
      "nbconvert_exporter": "python",
      "pygments_lexer": "ipython3",
      "version": "3.6.8"
    },
    "colab": {
      "provenance": [],
      "toc_visible": true,
      "include_colab_link": true
    },
    "accelerator": "GPU",
    "gpuClass": "standard"
  },
  "cells": [
    {
      "cell_type": "markdown",
      "metadata": {
        "id": "view-in-github",
        "colab_type": "text"
      },
      "source": [
        "<a href=\"https://colab.research.google.com/github/vik-ahlawat/Data_Science-/blob/main/Lecture_8_Pytorch.ipynb\" target=\"_parent\"><img src=\"https://colab.research.google.com/assets/colab-badge.svg\" alt=\"Open In Colab\"/></a>"
      ]
    },
    {
      "cell_type": "markdown",
      "metadata": {
        "id": "3VNIH93hD-Ya"
      },
      "source": [
        "# PyTorch\n",
        "\n",
        "This will be the final lecture, today we will first have a brief introduction of deep learning, then we will look at some basics of using PyTorch to implement some simple models in deep learning.\n"
      ]
    },
    {
      "cell_type": "markdown",
      "source": [
        "# Basic Section (Start)\n",
        "What is Neural Network:\n",
        "1. [Recommended youtube video with great visual helpers](https://www.youtube.com/watch?v=aircAruvnKk&list=PLZHQObOWTQDNU6R1_67000Dx_ZCJB-3pi&index=4)\n",
        "# Basic Section (End)"
      ],
      "metadata": {
        "id": "jJYsdl4IbsO6"
      }
    },
    {
      "cell_type": "markdown",
      "metadata": {
        "id": "S-fCZYu2D-Yc"
      },
      "source": [
        "# Deep Learning Libraries\n",
        "\n",
        "There are many deep learning libraries available, the most common ones for python are\n",
        "\n",
        "- TensorFlow, Keras\n",
        "- PyTorch\n",
        "\n",
        "Working with tensorflow requires going into lot of details of the contruction of the computation graph, whereas Keras is a higher level interface for tensorflow. Tensorflow is very popular in the industry and good for production code.\n",
        "\n",
        "PyTorch can be used as low level interface, but is much more user-friendly than tensorflow, but it also has a higher level interface. Pytorch is more popular in the research community.\n",
        "\n",
        "## Main features that any deep learning library should provide\n",
        "\n",
        "No matter what library or language you use, the main features provided by a deep learning library are\n",
        "1. Use the GPU to speed up computation\n",
        "2. Ability to do automatic differentiation\n",
        "3. Useful library functions for common architectures and optimization algorithms"
      ]
    },
    {
      "cell_type": "markdown",
      "metadata": {
        "id": "DzUDYHi8D-Yd"
      },
      "source": []
    },
    {
      "cell_type": "markdown",
      "source": [
        "# PyTorch\n",
        "We will look at all of the above in pytorch.\n",
        "The best way to think about pytorch is that its numpy + GPU + autograd.\n",
        "\n",
        "You can install it with\n",
        "\n",
        "```conda install pytorch```.\n",
        "\n",
        "Alternatively (and recommended), run this notebook in Google Colab-- it provides an environment with all of the PyTorch dependencies plus a GPU free of charge."
      ],
      "metadata": {
        "id": "yPut46JUDh-E"
      }
    },
    {
      "cell_type": "code",
      "metadata": {
        "id": "fCdvNHW0D-Ye"
      },
      "source": [
        "import torch\n",
        "import numpy as np"
      ],
      "execution_count": null,
      "outputs": []
    },
    {
      "cell_type": "markdown",
      "metadata": {
        "id": "ZpWzZewHD-Yi"
      },
      "source": [
        "The equivalent object to numpy arrays in pytorch are called tensors, but they are just multidimensional arrays."
      ]
    },
    {
      "cell_type": "code",
      "metadata": {
        "id": "t78yenP1D-Yj",
        "colab": {
          "base_uri": "https://localhost:8080/"
        },
        "outputId": "17173026-7007-4d69-97bf-dbdc7b9b22ce"
      },
      "source": [
        "torch.tensor([2, 3, 4, 5])"
      ],
      "execution_count": null,
      "outputs": [
        {
          "output_type": "execute_result",
          "data": {
            "text/plain": [
              "tensor([2, 3, 4, 5])"
            ]
          },
          "metadata": {},
          "execution_count": 2
        }
      ]
    },
    {
      "cell_type": "code",
      "metadata": {
        "id": "Efg1UeizD-Ym",
        "colab": {
          "base_uri": "https://localhost:8080/"
        },
        "outputId": "72b43b0d-b526-4e46-8314-0c052c846c6a"
      },
      "source": [
        "torch.zeros((5, 5))"
      ],
      "execution_count": null,
      "outputs": [
        {
          "output_type": "execute_result",
          "data": {
            "text/plain": [
              "tensor([[0., 0., 0., 0., 0.],\n",
              "        [0., 0., 0., 0., 0.],\n",
              "        [0., 0., 0., 0., 0.],\n",
              "        [0., 0., 0., 0., 0.],\n",
              "        [0., 0., 0., 0., 0.]])"
            ]
          },
          "metadata": {},
          "execution_count": 3
        }
      ]
    },
    {
      "cell_type": "code",
      "metadata": {
        "id": "1BlufhDpD-Yp",
        "colab": {
          "base_uri": "https://localhost:8080/"
        },
        "outputId": "eb095a24-eeea-4fb4-b720-ea76dec79310"
      },
      "source": [
        "x = torch.ones((5, 5))\n",
        "print(type(x))\n",
        "print(x)\n",
        "print(2*x +5)"
      ],
      "execution_count": null,
      "outputs": [
        {
          "output_type": "stream",
          "name": "stdout",
          "text": [
            "<class 'torch.Tensor'>\n",
            "tensor([[1., 1., 1., 1., 1.],\n",
            "        [1., 1., 1., 1., 1.],\n",
            "        [1., 1., 1., 1., 1.],\n",
            "        [1., 1., 1., 1., 1.],\n",
            "        [1., 1., 1., 1., 1.]])\n",
            "tensor([[7., 7., 7., 7., 7.],\n",
            "        [7., 7., 7., 7., 7.],\n",
            "        [7., 7., 7., 7., 7.],\n",
            "        [7., 7., 7., 7., 7.],\n",
            "        [7., 7., 7., 7., 7.]])\n"
          ]
        }
      ]
    },
    {
      "cell_type": "code",
      "metadata": {
        "id": "NwCz7O1wD-Yu",
        "colab": {
          "base_uri": "https://localhost:8080/"
        },
        "outputId": "89917ad4-fae4-45c3-9e4b-21c507978322"
      },
      "source": [
        "torch.randn(5, 5)"
      ],
      "execution_count": null,
      "outputs": [
        {
          "output_type": "execute_result",
          "data": {
            "text/plain": [
              "tensor([[-0.6201,  1.0562, -0.8070,  1.6514, -0.9157],\n",
              "        [-0.1631, -1.2164, -1.7736, -0.2871, -0.3023],\n",
              "        [-0.9513, -0.3931,  0.4196,  0.3535,  0.9642],\n",
              "        [-0.6495, -0.1778,  1.7908,  0.9826, -0.1174],\n",
              "        [-2.1790,  2.0435, -1.2822, -0.4264,  0.2710]])"
            ]
          },
          "metadata": {},
          "execution_count": 5
        }
      ]
    },
    {
      "cell_type": "code",
      "metadata": {
        "id": "4fHiY5VKD-Yw",
        "colab": {
          "base_uri": "https://localhost:8080/"
        },
        "outputId": "1564a74e-9d62-4899-8652-d9bc2be44d44"
      },
      "source": [
        "x = torch.rand(25)\n",
        "x"
      ],
      "execution_count": null,
      "outputs": [
        {
          "output_type": "execute_result",
          "data": {
            "text/plain": [
              "tensor([0.5121, 0.6288, 0.1132, 0.7700, 0.1522, 0.8381, 0.7997, 0.9358, 0.3138,\n",
              "        0.2970, 0.0024, 0.2669, 0.0510, 0.8862, 0.8821, 0.3127, 0.4198, 0.9081,\n",
              "        0.5322, 0.2821, 0.6545, 0.2972, 0.1414, 0.6394, 0.9927])"
            ]
          },
          "metadata": {},
          "execution_count": 6
        }
      ]
    },
    {
      "cell_type": "code",
      "metadata": {
        "id": "0_QKyI7hD-Yz",
        "colab": {
          "base_uri": "https://localhost:8080/"
        },
        "outputId": "24f0df81-5250-4299-967f-e2b3b34348c3"
      },
      "source": [
        "x = x.reshape(-1, 5)\n",
        "x"
      ],
      "execution_count": null,
      "outputs": [
        {
          "output_type": "execute_result",
          "data": {
            "text/plain": [
              "tensor([[0.5121, 0.6288, 0.1132, 0.7700, 0.1522],\n",
              "        [0.8381, 0.7997, 0.9358, 0.3138, 0.2970],\n",
              "        [0.0024, 0.2669, 0.0510, 0.8862, 0.8821],\n",
              "        [0.3127, 0.4198, 0.9081, 0.5322, 0.2821],\n",
              "        [0.6545, 0.2972, 0.1414, 0.6394, 0.9927]])"
            ]
          },
          "metadata": {},
          "execution_count": 7
        }
      ]
    },
    {
      "cell_type": "code",
      "metadata": {
        "id": "Kn9fwJoSD-Y5",
        "colab": {
          "base_uri": "https://localhost:8080/"
        },
        "outputId": "dfe37b57-96d0-4088-bf73-ed344fefd990"
      },
      "source": [
        "print(torch.arange(10))\n",
        "print(torch.eye(5))\n",
        "print(torch.linspace(0, 1, 10))"
      ],
      "execution_count": null,
      "outputs": [
        {
          "output_type": "stream",
          "name": "stdout",
          "text": [
            "tensor([0, 1, 2, 3, 4, 5, 6, 7, 8, 9])\n",
            "tensor([[1., 0., 0., 0., 0.],\n",
            "        [0., 1., 0., 0., 0.],\n",
            "        [0., 0., 1., 0., 0.],\n",
            "        [0., 0., 0., 1., 0.],\n",
            "        [0., 0., 0., 0., 1.]])\n",
            "tensor([0.0000, 0.1111, 0.2222, 0.3333, 0.4444, 0.5556, 0.6667, 0.7778, 0.8889,\n",
            "        1.0000])\n"
          ]
        }
      ]
    },
    {
      "cell_type": "markdown",
      "metadata": {
        "id": "Cix7EXwSD-Y7"
      },
      "source": [
        "Some functions are a bit different"
      ]
    },
    {
      "cell_type": "code",
      "source": [
        "A = np.random.rand(5, 5)\n",
        "x = np.ones((5, 1))\n",
        "print(A)\n",
        "print(x)\n",
        "A @ x"
      ],
      "metadata": {
        "id": "fRrYVBDmjLpq",
        "colab": {
          "base_uri": "https://localhost:8080/"
        },
        "outputId": "5a174e41-e394-4f8f-ab7b-d0111b8ff4e9"
      },
      "execution_count": null,
      "outputs": [
        {
          "output_type": "stream",
          "name": "stdout",
          "text": [
            "[[8.40907469e-01 7.41801097e-01 3.26276028e-01 1.16395627e-01\n",
            "  2.00541451e-01]\n",
            " [6.01444328e-01 1.66794535e-01 5.48138376e-01 3.76958231e-01\n",
            "  2.84359207e-01]\n",
            " [2.64407668e-01 2.95378340e-02 8.14819979e-01 9.92231323e-01\n",
            "  5.76579647e-01]\n",
            " [2.42525726e-01 9.79025068e-01 4.40877993e-01 6.93987708e-01\n",
            "  8.82807214e-01]\n",
            " [6.72827172e-01 2.03056631e-04 4.05482473e-02 6.76542934e-01\n",
            "  4.71464277e-01]]\n",
            "[[1.]\n",
            " [1.]\n",
            " [1.]\n",
            " [1.]\n",
            " [1.]]\n"
          ]
        },
        {
          "output_type": "execute_result",
          "data": {
            "text/plain": [
              "array([[2.22592167],\n",
              "       [1.97769468],\n",
              "       [2.67757645],\n",
              "       [3.23922371],\n",
              "       [1.86158569]])"
            ]
          },
          "metadata": {},
          "execution_count": 9
        }
      ]
    },
    {
      "cell_type": "code",
      "source": [
        "A_ = torch.rand((5, 5))\n",
        "x_ = torch.rand(5, 1)\n",
        "print(A_)\n",
        "print(x_)\n",
        "A_ @ x_"
      ],
      "metadata": {
        "id": "npGWD47jicvY",
        "colab": {
          "base_uri": "https://localhost:8080/"
        },
        "outputId": "74276f25-cfed-4179-d5b7-7adc092a6716"
      },
      "execution_count": null,
      "outputs": [
        {
          "output_type": "stream",
          "name": "stdout",
          "text": [
            "tensor([[0.4749, 0.2277, 0.8200, 0.8699, 0.2063],\n",
            "        [0.2178, 0.5834, 0.3493, 0.4329, 0.7640],\n",
            "        [0.9455, 0.1247, 0.6293, 0.4281, 0.1063],\n",
            "        [0.4195, 0.1590, 0.2659, 0.2342, 0.2512],\n",
            "        [0.1106, 0.3212, 0.4249, 0.4877, 0.2337]])\n",
            "tensor([[5.3644e-07],\n",
            "        [3.8466e-01],\n",
            "        [3.5391e-01],\n",
            "        [4.8614e-02],\n",
            "        [3.4319e-02]])\n"
          ]
        },
        {
          "output_type": "execute_result",
          "data": {
            "text/plain": [
              "tensor([[0.4272],\n",
              "        [0.3953],\n",
              "        [0.2951],\n",
              "        [0.1753],\n",
              "        [0.3057]])"
            ]
          },
          "metadata": {},
          "execution_count": 10
        }
      ]
    },
    {
      "cell_type": "code",
      "metadata": {
        "id": "9BukQIL5D-Y8",
        "colab": {
          "base_uri": "https://localhost:8080/"
        },
        "outputId": "9964dc4d-b865-476c-c92a-57f277eeda7e"
      },
      "source": [
        "A = torch.ones((5, 5))\n",
        "x = torch.ones(5, 1)\n",
        "print(A)\n",
        "print(x)\n",
        "A @ x"
      ],
      "execution_count": null,
      "outputs": [
        {
          "output_type": "stream",
          "name": "stdout",
          "text": [
            "tensor([[1., 1., 1., 1., 1.],\n",
            "        [1., 1., 1., 1., 1.],\n",
            "        [1., 1., 1., 1., 1.],\n",
            "        [1., 1., 1., 1., 1.],\n",
            "        [1., 1., 1., 1., 1.]])\n",
            "tensor([[1.],\n",
            "        [1.],\n",
            "        [1.],\n",
            "        [1.],\n",
            "        [1.]])\n"
          ]
        },
        {
          "output_type": "execute_result",
          "data": {
            "text/plain": [
              "tensor([[5.],\n",
              "        [5.],\n",
              "        [5.],\n",
              "        [5.],\n",
              "        [5.]])"
            ]
          },
          "metadata": {},
          "execution_count": 11
        }
      ]
    },
    {
      "cell_type": "code",
      "source": [
        "?np.ones"
      ],
      "metadata": {
        "id": "n2XG-EU0jUci"
      },
      "execution_count": null,
      "outputs": []
    },
    {
      "cell_type": "code",
      "metadata": {
        "id": "k6YHvvy4D-Y-"
      },
      "source": [
        "?torch.ones"
      ],
      "execution_count": null,
      "outputs": []
    },
    {
      "cell_type": "markdown",
      "metadata": {
        "id": "vpEwcH-JD-ZA"
      },
      "source": [
        "You can convert tensors to a numpy array that shares its memory with the pytorch tensor -> to use more library that are compatible to numpy but not pytorch"
      ]
    },
    {
      "cell_type": "code",
      "metadata": {
        "id": "MquNPK71D-ZC",
        "colab": {
          "base_uri": "https://localhost:8080/"
        },
        "outputId": "904b7dc8-6fc2-4525-e1ff-266dd2ad9217"
      },
      "source": [
        "x = torch.ones(5, 5)\n",
        "x"
      ],
      "execution_count": null,
      "outputs": [
        {
          "output_type": "execute_result",
          "data": {
            "text/plain": [
              "tensor([[1., 1., 1., 1., 1.],\n",
              "        [1., 1., 1., 1., 1.],\n",
              "        [1., 1., 1., 1., 1.],\n",
              "        [1., 1., 1., 1., 1.],\n",
              "        [1., 1., 1., 1., 1.]])"
            ]
          },
          "metadata": {},
          "execution_count": 12
        }
      ]
    },
    {
      "cell_type": "code",
      "metadata": {
        "id": "aOeMqFrOD-ZE",
        "colab": {
          "base_uri": "https://localhost:8080/"
        },
        "outputId": "a5a5a6e2-9616-41e6-f3de-5a8e4c851a74"
      },
      "source": [
        "xn = x.numpy()\n",
        "print(type(xn))\n",
        "xn"
      ],
      "execution_count": null,
      "outputs": [
        {
          "output_type": "stream",
          "name": "stdout",
          "text": [
            "<class 'numpy.ndarray'>\n"
          ]
        },
        {
          "output_type": "execute_result",
          "data": {
            "text/plain": [
              "array([[1., 1., 1., 1., 1.],\n",
              "       [1., 1., 1., 1., 1.],\n",
              "       [1., 1., 1., 1., 1.],\n",
              "       [1., 1., 1., 1., 1.],\n",
              "       [1., 1., 1., 1., 1.]], dtype=float32)"
            ]
          },
          "metadata": {},
          "execution_count": 13
        }
      ]
    },
    {
      "cell_type": "code",
      "metadata": {
        "id": "bZlG0x9xD-ZH",
        "colab": {
          "base_uri": "https://localhost:8080/"
        },
        "outputId": "2b4e1e0b-dfce-469f-a208-39e810498c03"
      },
      "source": [
        "# Changes in Numpy will cause changes in Tensor\n",
        "xn[4, 2] = 10\n",
        "xn"
      ],
      "execution_count": null,
      "outputs": [
        {
          "output_type": "execute_result",
          "data": {
            "text/plain": [
              "array([[ 1.,  1.,  1.,  1.,  1.],\n",
              "       [ 1.,  1.,  1.,  1.,  1.],\n",
              "       [ 1.,  1.,  1.,  1.,  1.],\n",
              "       [ 1.,  1.,  1.,  1.,  1.],\n",
              "       [ 1.,  1., 10.,  1.,  1.]], dtype=float32)"
            ]
          },
          "metadata": {},
          "execution_count": 14
        }
      ]
    },
    {
      "cell_type": "code",
      "metadata": {
        "id": "sN6qJIsID-ZJ",
        "colab": {
          "base_uri": "https://localhost:8080/"
        },
        "outputId": "2bd2d21f-fdd5-4ea8-f0f4-931cbad737cb"
      },
      "source": [
        "x"
      ],
      "execution_count": null,
      "outputs": [
        {
          "output_type": "execute_result",
          "data": {
            "text/plain": [
              "tensor([[ 1.,  1.,  1.,  1.,  1.],\n",
              "        [ 1.,  1.,  1.,  1.,  1.],\n",
              "        [ 1.,  1.,  1.,  1.,  1.],\n",
              "        [ 1.,  1.,  1.,  1.,  1.],\n",
              "        [ 1.,  1., 10.,  1.,  1.]])"
            ]
          },
          "metadata": {},
          "execution_count": 15
        }
      ]
    },
    {
      "cell_type": "markdown",
      "metadata": {
        "id": "pDnSshCXD-ZL"
      },
      "source": [
        "## Using the GPU\n",
        "\n",
        "The GPU (Graphical Processing Unit) is a separate processing unit that is specialized to handle bulk computations required for rendering high quality graphics. It mainly consists of a large number of processor cores that are individually very slow, but because of their sheer number (around 2000) they can churn through computations very quickly."
      ]
    },
    {
      "cell_type": "code",
      "metadata": {
        "id": "pmJ0hjO5D-ZM",
        "colab": {
          "base_uri": "https://localhost:8080/"
        },
        "outputId": "9d504e57-fe45-4091-fe47-3f6c88d31679"
      },
      "source": [
        "import torch\n",
        "\n",
        "\"\"\"\n",
        "CUDA is a parallel computing platform\n",
        "and application programming interface\n",
        "that allows software to use certain types\n",
        "of graphics processing units for general purpose processing\n",
        "\"\"\"\n",
        "# CUDA -> Recommend CME213 (C++)\n",
        "torch.cuda.is_available()"
      ],
      "execution_count": null,
      "outputs": [
        {
          "output_type": "execute_result",
          "data": {
            "text/plain": [
              "True"
            ]
          },
          "metadata": {},
          "execution_count": 16
        }
      ]
    },
    {
      "cell_type": "markdown",
      "metadata": {
        "id": "i0kadMeJD-ZN"
      },
      "source": [
        "Installing the GPU drivers and the CUDA toolkit can be quite messy, so if you just want to experiment with GPUs and deep learning libraries, you can use [Google colaboratory](https://colab.research.google.com/)"
      ]
    },
    {
      "cell_type": "code",
      "metadata": {
        "id": "fCtE0kLaD-ZO"
      },
      "source": [
        "gpu = torch.device(\"cuda\")\n",
        "cpu = torch.device(\"cpu\")"
      ],
      "execution_count": null,
      "outputs": []
    },
    {
      "cell_type": "code",
      "source": [
        "gpu, cpu"
      ],
      "metadata": {
        "id": "urO7Jofk5JyU",
        "colab": {
          "base_uri": "https://localhost:8080/"
        },
        "outputId": "4a0123db-08ed-46e5-c6fe-ecbb721513b7"
      },
      "execution_count": null,
      "outputs": [
        {
          "output_type": "execute_result",
          "data": {
            "text/plain": [
              "(device(type='cuda'), device(type='cpu'))"
            ]
          },
          "metadata": {},
          "execution_count": 18
        }
      ]
    },
    {
      "cell_type": "code",
      "metadata": {
        "id": "ESIE5J08D-ZS"
      },
      "source": [
        "A = torch.rand(100, 100)\n",
        "B = torch.rand(100, 100)"
      ],
      "execution_count": null,
      "outputs": []
    },
    {
      "cell_type": "code",
      "metadata": {
        "id": "t6VNz5SzD-ZU",
        "colab": {
          "base_uri": "https://localhost:8080/"
        },
        "outputId": "ba4c322a-4537-4724-a9bb-5782091f0adf"
      },
      "source": [
        "A.to('cuda') @ B.to('cuda') # .to('cuda') moves the PyTorch tensors A and B from the CPU"
      ],
      "execution_count": null,
      "outputs": [
        {
          "output_type": "execute_result",
          "data": {
            "text/plain": [
              "tensor([[23.6652, 23.9288, 24.3143,  ..., 23.2676, 25.4306, 27.2386],\n",
              "        [24.7167, 24.6607, 25.4587,  ..., 25.6353, 26.9865, 27.9898],\n",
              "        [24.1564, 22.9828, 21.9076,  ..., 22.3473, 22.8977, 24.7727],\n",
              "        ...,\n",
              "        [23.8090, 26.2407, 25.4452,  ..., 26.1298, 24.4618, 27.8971],\n",
              "        [27.5789, 28.5560, 28.2434,  ..., 29.4338, 29.4395, 28.1920],\n",
              "        [20.6508, 21.3678, 21.8029,  ..., 20.7227, 20.7430, 23.1453]],\n",
              "       device='cuda:0')"
            ]
          },
          "metadata": {},
          "execution_count": 20
        }
      ]
    },
    {
      "cell_type": "code",
      "metadata": {
        "id": "vXjtNNqtD-ZW"
      },
      "source": [
        "A_gpu = A.to(gpu)\n",
        "B_gpu = B.to(gpu)"
      ],
      "execution_count": null,
      "outputs": []
    },
    {
      "cell_type": "code",
      "metadata": {
        "id": "krIHa3ErD-ZY",
        "colab": {
          "base_uri": "https://localhost:8080/"
        },
        "outputId": "3f375031-10eb-4cec-a55a-c39eaf64fb10"
      },
      "source": [
        "A_gpu @ B_gpu"
      ],
      "execution_count": null,
      "outputs": [
        {
          "output_type": "execute_result",
          "data": {
            "text/plain": [
              "tensor([[23.6652, 23.9288, 24.3143,  ..., 23.2676, 25.4306, 27.2386],\n",
              "        [24.7167, 24.6607, 25.4587,  ..., 25.6353, 26.9865, 27.9898],\n",
              "        [24.1564, 22.9828, 21.9076,  ..., 22.3473, 22.8977, 24.7727],\n",
              "        ...,\n",
              "        [23.8090, 26.2407, 25.4452,  ..., 26.1298, 24.4618, 27.8971],\n",
              "        [27.5789, 28.5560, 28.2434,  ..., 29.4338, 29.4395, 28.1920],\n",
              "        [20.6508, 21.3678, 21.8029,  ..., 20.7227, 20.7430, 23.1453]],\n",
              "       device='cuda:0')"
            ]
          },
          "metadata": {},
          "execution_count": 22
        }
      ]
    },
    {
      "cell_type": "code",
      "metadata": {
        "id": "j5oi8M-GD-Zc",
        "colab": {
          "base_uri": "https://localhost:8080/"
        },
        "outputId": "525fb248-8ff5-4492-8a8e-01fd529d81f1"
      },
      "source": [
        "C_gpu = A_gpu @ B_gpu\n",
        "C = C_gpu.to(cpu)\n",
        "C"
      ],
      "execution_count": null,
      "outputs": [
        {
          "output_type": "execute_result",
          "data": {
            "text/plain": [
              "tensor([[23.6652, 23.9288, 24.3143,  ..., 23.2676, 25.4306, 27.2386],\n",
              "        [24.7167, 24.6607, 25.4587,  ..., 25.6353, 26.9865, 27.9898],\n",
              "        [24.1564, 22.9828, 21.9076,  ..., 22.3473, 22.8977, 24.7727],\n",
              "        ...,\n",
              "        [23.8090, 26.2407, 25.4452,  ..., 26.1298, 24.4618, 27.8971],\n",
              "        [27.5789, 28.5560, 28.2434,  ..., 29.4338, 29.4395, 28.1920],\n",
              "        [20.6508, 21.3678, 21.8029,  ..., 20.7227, 20.7430, 23.1453]])"
            ]
          },
          "metadata": {},
          "execution_count": 23
        }
      ]
    },
    {
      "cell_type": "markdown",
      "metadata": {
        "id": "vICVTE1wD-Zq"
      },
      "source": [
        "## Speedup from GPU\n",
        "`%%timeit` is a Jupyter Notebook magic command that is used to measure the execution time of a Python code snippet. When you add `%%timeit` at the beginning of a cell in a Jupyter Notebook, it will run the code in the cell multiple times and measure the average execution time."
      ]
    },
    {
      "cell_type": "code",
      "metadata": {
        "id": "4raRnuw1D-Zr",
        "colab": {
          "base_uri": "https://localhost:8080/"
        },
        "outputId": "31dc5ab7-71a2-48c8-f002-1158c213de15"
      },
      "source": [
        "%%timeit\n",
        "A = torch.rand(3000, 3000)\n",
        "B = torch.rand(3000, 3000)\n",
        "for i in range(5):\n",
        "    B = torch.mm(A, B)"
      ],
      "execution_count": null,
      "outputs": [
        {
          "output_type": "stream",
          "name": "stdout",
          "text": [
            "2.37 s ± 351 ms per loop (mean ± std. dev. of 7 runs, 1 loop each)\n"
          ]
        }
      ]
    },
    {
      "cell_type": "code",
      "metadata": {
        "id": "Ch47eB6OD-Zt",
        "colab": {
          "base_uri": "https://localhost:8080/"
        },
        "outputId": "f3f06917-da04-4709-9a9a-1a4abcac6171"
      },
      "source": [
        "%%timeit\n",
        "A = torch.rand(3000, 3000, device=gpu)\n",
        "B = torch.rand(3000, 3000, device=gpu)\n",
        "for i in range(5):\n",
        "    B = torch.mm(A, B)"
      ],
      "execution_count": null,
      "outputs": [
        {
          "output_type": "stream",
          "name": "stdout",
          "text": [
            "70.5 ms ± 1.65 ms per loop (mean ± std. dev. of 7 runs, 100 loops each)\n"
          ]
        }
      ]
    },
    {
      "cell_type": "markdown",
      "metadata": {
        "id": "wDNQLaL6D-Zu"
      },
      "source": [
        "## Automatic Differentiation\n",
        "\n",
        "PyTorch is designed for automatic differentiation. PyTorch uses dynamic computation graphs to compute the gradients of the parameters.\n",
        "\n",
        "When performing operations on tensors with `requires_grad=True`, PyTorch builds a computation graph, recording each operation (like `+`, `*`, `mm`, etc.). This graph tells PyTorch how to compute derivatives during `backward()`."
      ]
    },
    {
      "cell_type": "code",
      "metadata": {
        "id": "1r6mfgjHD-Zv"
      },
      "source": [
        "# initiate parameters w and b\n",
        "x = torch.tensor([2.0])\n",
        "w = torch.tensor([5.0], requires_grad=True)\n",
        "b = torch.tensor([2.0], requires_grad=True)"
      ],
      "execution_count": null,
      "outputs": []
    },
    {
      "cell_type": "code",
      "metadata": {
        "id": "eezGUNqXD-Zy",
        "colab": {
          "base_uri": "https://localhost:8080/"
        },
        "outputId": "b795e50b-51db-4396-83c9-ffc9f5c4de51"
      },
      "source": [
        "y = w * x + b\n",
        "y"
      ],
      "execution_count": null,
      "outputs": [
        {
          "output_type": "execute_result",
          "data": {
            "text/plain": [
              "tensor([12.], grad_fn=<AddBackward0>)"
            ]
          },
          "metadata": {},
          "execution_count": 27
        }
      ]
    },
    {
      "cell_type": "markdown",
      "metadata": {
        "id": "F_Y_WzasD-Z0"
      },
      "source": [
        "Define an error for your function"
      ]
    },
    {
      "cell_type": "code",
      "metadata": {
        "id": "3r7oYMHFD-Z0",
        "colab": {
          "base_uri": "https://localhost:8080/"
        },
        "outputId": "0c98b717-b6a4-40d4-8974-43b31e8c5390"
      },
      "source": [
        "# define loss function\n",
        "loss = torch.linalg.vector_norm(y - 13)\n",
        "loss"
      ],
      "execution_count": null,
      "outputs": [
        {
          "output_type": "execute_result",
          "data": {
            "text/plain": [
              "tensor(1., grad_fn=<LinalgVectorNormBackward0>)"
            ]
          },
          "metadata": {},
          "execution_count": 28
        }
      ]
    },
    {
      "cell_type": "code",
      "source": [
        "# gradient is not computed unless starting backpropagation\n",
        "w.grad"
      ],
      "metadata": {
        "id": "6VhXA6FXJW-_"
      },
      "execution_count": null,
      "outputs": []
    },
    {
      "cell_type": "markdown",
      "metadata": {
        "id": "oMhtVXAhD-Z5"
      },
      "source": [
        "Calling `x.backward()` on any tensor forces pytorch to compute all the gradients of the tensors used to compute `x` which had the `requires_grad` flag set to `True`. The computed gradient will be stored in the `.grad` property of the tensors."
      ]
    },
    {
      "cell_type": "code",
      "metadata": {
        "id": "5PIU90uoD-Z5"
      },
      "source": [
        "# backpropogation, compute gradients\n",
        "loss.backward()"
      ],
      "execution_count": null,
      "outputs": []
    },
    {
      "cell_type": "code",
      "metadata": {
        "id": "vYbns6g4D-Z7",
        "colab": {
          "base_uri": "https://localhost:8080/"
        },
        "outputId": "d064f523-235a-43c6-c3f2-fdb983d9f69f"
      },
      "source": [
        "w.grad"
      ],
      "execution_count": null,
      "outputs": [
        {
          "output_type": "execute_result",
          "data": {
            "text/plain": [
              "tensor([-2.])"
            ]
          },
          "metadata": {},
          "execution_count": 31
        }
      ]
    },
    {
      "cell_type": "code",
      "metadata": {
        "id": "0MYesARFD-Z9",
        "colab": {
          "base_uri": "https://localhost:8080/"
        },
        "outputId": "f2de3dbe-e7a5-4f68-d8e5-044de72bf64e"
      },
      "source": [
        "b.grad"
      ],
      "execution_count": null,
      "outputs": [
        {
          "output_type": "execute_result",
          "data": {
            "text/plain": [
              "tensor([-1.])"
            ]
          },
          "metadata": {},
          "execution_count": 32
        }
      ]
    },
    {
      "cell_type": "markdown",
      "source": [
        "We can tell PyTorch to skip the gradient calculations of tensors using `torch.no_grad()`, which can help to reduce the memory usage and speed up computations. If you don't use `torch.no_grad()`, PyTorch will track this operation, and the updated tensor will be part of the computation graph."
      ],
      "metadata": {
        "id": "a9GBX-JwVykN"
      }
    },
    {
      "cell_type": "code",
      "metadata": {
        "id": "XDhPOJHRD-aA"
      },
      "source": [
        "with torch.no_grad():\n",
        "    w -= 0.01 * w.grad # when we update w and b, do not update gradients\n",
        "    b -= 0.3 * b.grad"
      ],
      "execution_count": null,
      "outputs": []
    },
    {
      "cell_type": "code",
      "metadata": {
        "id": "6TlUBDHaD-aC",
        "colab": {
          "base_uri": "https://localhost:8080/"
        },
        "outputId": "8bfe21a5-6e16-41e8-e3ad-0acdd5f1da79"
      },
      "source": [
        "w, b"
      ],
      "execution_count": null,
      "outputs": [
        {
          "output_type": "execute_result",
          "data": {
            "text/plain": [
              "(tensor([5.0200], requires_grad=True), tensor([2.3000], requires_grad=True))"
            ]
          },
          "metadata": {},
          "execution_count": 34
        }
      ]
    },
    {
      "cell_type": "code",
      "metadata": {
        "id": "Lj85MTj2D-aF",
        "colab": {
          "base_uri": "https://localhost:8080/"
        },
        "outputId": "ab1d0fad-184c-4a4a-9b3e-bf3e5a9348d2"
      },
      "source": [
        "w.grad, b.grad # gradient doesn't change"
      ],
      "execution_count": null,
      "outputs": [
        {
          "output_type": "execute_result",
          "data": {
            "text/plain": [
              "(tensor([-2.]), tensor([-1.]))"
            ]
          },
          "metadata": {},
          "execution_count": 35
        }
      ]
    },
    {
      "cell_type": "markdown",
      "source": [
        "In PyTorch, gradients will accumulate. That means each time you call `loss.backward()`, the new gradients are added to `.grad`. We need to manually clear them."
      ],
      "metadata": {
        "id": "EWWVtZYNK22R"
      }
    },
    {
      "cell_type": "code",
      "metadata": {
        "id": "J3UbDFA7D-aJ",
        "colab": {
          "base_uri": "https://localhost:8080/"
        },
        "outputId": "a8ac9970-2354-42be-cc7b-da1b091cd897"
      },
      "source": [
        "# the gradients will accumulate and lead to incorrect updates and slower convergence.\n",
        "w.grad.zero_()\n",
        "b.grad.zero_()\n",
        "\n",
        "w.grad, b.grad"
      ],
      "execution_count": null,
      "outputs": [
        {
          "output_type": "execute_result",
          "data": {
            "text/plain": [
              "(tensor([0.]), tensor([0.]))"
            ]
          },
          "metadata": {},
          "execution_count": 36
        }
      ]
    },
    {
      "cell_type": "code",
      "metadata": {
        "id": "PNgA5bqxD-aL"
      },
      "source": [
        "y = w * x + b"
      ],
      "execution_count": null,
      "outputs": []
    },
    {
      "cell_type": "code",
      "metadata": {
        "id": "LhEnrtmQD-aN",
        "colab": {
          "base_uri": "https://localhost:8080/"
        },
        "outputId": "3896e0b1-2d19-4046-c991-3707ec84dec0"
      },
      "source": [
        "y"
      ],
      "execution_count": null,
      "outputs": [
        {
          "output_type": "execute_result",
          "data": {
            "text/plain": [
              "tensor([12.3400], grad_fn=<AddBackward0>)"
            ]
          },
          "metadata": {},
          "execution_count": 38
        }
      ]
    },
    {
      "cell_type": "code",
      "metadata": {
        "id": "QJYE5aRpD-aO",
        "colab": {
          "base_uri": "https://localhost:8080/"
        },
        "outputId": "943ab230-e7f3-40df-8d0d-6bfbc5f3fb03"
      },
      "source": [
        "loss = torch.norm(y - 13)\n",
        "loss"
      ],
      "execution_count": null,
      "outputs": [
        {
          "output_type": "execute_result",
          "data": {
            "text/plain": [
              "tensor(0.6600, grad_fn=<LinalgVectorNormBackward0>)"
            ]
          },
          "metadata": {},
          "execution_count": 39
        }
      ]
    },
    {
      "cell_type": "code",
      "metadata": {
        "id": "BBLYqopxD-aQ",
        "colab": {
          "base_uri": "https://localhost:8080/"
        },
        "outputId": "9b4f0a44-41e2-4afb-ee21-fa0c288c575a"
      },
      "source": [
        "loss.backward()\n",
        "w.grad, b.grad"
      ],
      "execution_count": null,
      "outputs": [
        {
          "output_type": "execute_result",
          "data": {
            "text/plain": [
              "(tensor([-2.]), tensor([-1.]))"
            ]
          },
          "metadata": {},
          "execution_count": 40
        }
      ]
    },
    {
      "cell_type": "markdown",
      "metadata": {
        "id": "hNbj9oDlD-aS"
      },
      "source": [
        "### Making it more compact"
      ]
    },
    {
      "cell_type": "code",
      "metadata": {
        "id": "xlQ60VuqD-aS"
      },
      "source": [
        "def model_fn(x, w, b):\n",
        "    return w * x + b"
      ],
      "execution_count": null,
      "outputs": []
    },
    {
      "cell_type": "code",
      "metadata": {
        "id": "9zZHeiwJD-aV"
      },
      "source": [
        "def loss_fn(y, yt):\n",
        "    return torch.norm(y - yt)"
      ],
      "execution_count": null,
      "outputs": []
    },
    {
      "cell_type": "code",
      "metadata": {
        "id": "q7drmZAzD-aX"
      },
      "source": [
        "w = torch.tensor([5.0], requires_grad=True)\n",
        "b = torch.tensor([2.0], requires_grad=True)"
      ],
      "execution_count": null,
      "outputs": []
    },
    {
      "cell_type": "code",
      "metadata": {
        "id": "ZSogMXf-D-aY"
      },
      "source": [
        "x = torch.tensor([2.0])\n",
        "yt = torch.tensor([13.0])"
      ],
      "execution_count": null,
      "outputs": []
    },
    {
      "cell_type": "code",
      "metadata": {
        "id": "77BNsdU-D-aa",
        "colab": {
          "base_uri": "https://localhost:8080/"
        },
        "outputId": "8414fa79-3556-45ad-e93b-118466b3090f"
      },
      "source": [
        "y = model_fn(x, w, b)\n",
        "loss = loss_fn(y, yt)\n",
        "loss.backward()\n",
        "with torch.no_grad():\n",
        "    w -= 0.05 * w.grad\n",
        "    b -= 0.05 * b.grad\n",
        "w.grad.zero_()\n",
        "b.grad.zero_()\n",
        "\n",
        "print(f\" w = {w}\\n b = {b}\\n y = {y}\\n loss = {loss}\")\n",
        "# note that 'loss' indicates the loss for the previous m,c values"
      ],
      "execution_count": null,
      "outputs": [
        {
          "output_type": "stream",
          "name": "stdout",
          "text": [
            " w = tensor([5.1000], requires_grad=True)\n",
            " b = tensor([2.0500], requires_grad=True)\n",
            " y = tensor([12.], grad_fn=<AddBackward0>)\n",
            " loss = 1.0\n"
          ]
        }
      ]
    },
    {
      "cell_type": "markdown",
      "metadata": {
        "id": "3kRdaQe6D-ab"
      },
      "source": [
        "### Training loop explained"
      ]
    },
    {
      "cell_type": "markdown",
      "source": [
        "1. Forward propagation to get predicted $\\hat{y}$\n",
        "2. Get the loss by loss_fun(y, $\\hat{y}$)\n",
        "3. Backward propagation to get the gradient\n",
        "4. Update parameters\n",
        "5. Repeat 1 ~ 4 until convergence"
      ],
      "metadata": {
        "id": "vNdBCLA1yTn4"
      }
    },
    {
      "cell_type": "code",
      "metadata": {
        "id": "Alq94bPxD-ac"
      },
      "source": [
        "import matplotlib.pyplot as plt"
      ],
      "execution_count": null,
      "outputs": []
    },
    {
      "cell_type": "code",
      "metadata": {
        "id": "0HdYDtWDD-ae"
      },
      "source": [
        "def model_fn(x, w, b):\n",
        "    return w @ x + b"
      ],
      "execution_count": null,
      "outputs": []
    },
    {
      "cell_type": "code",
      "metadata": {
        "id": "v6Cvos0BD-af"
      },
      "source": [
        "def loss_fn(y, yt):\n",
        "    return torch.norm(y - yt)"
      ],
      "execution_count": null,
      "outputs": []
    },
    {
      "cell_type": "code",
      "metadata": {
        "id": "8vCjbW7HD-ah"
      },
      "source": [
        "w = torch.rand((5, 5), requires_grad=True)\n",
        "b = torch.ones((5, 1), requires_grad=True)"
      ],
      "execution_count": null,
      "outputs": []
    },
    {
      "cell_type": "code",
      "metadata": {
        "id": "BsITRCClD-ai"
      },
      "source": [
        "x = torch.randn(5, 100)\n",
        "yt = torch.randn(1, 100)\n",
        "losses = []"
      ],
      "execution_count": null,
      "outputs": []
    },
    {
      "cell_type": "code",
      "metadata": {
        "id": "NFs5CphAD-al",
        "colab": {
          "base_uri": "https://localhost:8080/",
          "height": 1000
        },
        "outputId": "c6b686b7-c51f-4ab8-fb61-4d2672c4b32b"
      },
      "source": [
        "for i in range(50):\n",
        "    # 1. Forward\n",
        "    y = model_fn(x, w, b)\n",
        "    # 2. Get loss\n",
        "    loss = loss_fn(y, yt)\n",
        "    # 3. backward\n",
        "    loss.backward()\n",
        "    # 4. Update\n",
        "    with torch.no_grad():\n",
        "        w -= 0.05 * w.grad\n",
        "        b -= 0.05 * b.grad\n",
        "    w.grad.zero_()\n",
        "    b.grad.zero_()\n",
        "\n",
        "    losses += [loss.item()]\n",
        "    print(f\"loss = {loss}\")\n",
        "plt.plot(losses);"
      ],
      "execution_count": null,
      "outputs": [
        {
          "output_type": "stream",
          "name": "stdout",
          "text": [
            "loss = 43.12593078613281\n",
            "loss = 38.73484802246094\n",
            "loss = 34.77571487426758\n",
            "loss = 31.318378448486328\n",
            "loss = 28.419946670532227\n",
            "loss = 26.105955123901367\n",
            "loss = 24.354421615600586\n",
            "loss = 23.09492301940918\n",
            "loss = 22.226896286010742\n",
            "loss = 21.64614486694336\n",
            "loss = 21.26414680480957\n",
            "loss = 21.014719009399414\n",
            "loss = 20.8520565032959\n",
            "loss = 20.74576759338379\n",
            "loss = 20.67607307434082\n",
            "loss = 20.63019561767578\n",
            "loss = 20.59988021850586\n",
            "loss = 20.57977867126465\n",
            "loss = 20.56640625\n",
            "loss = 20.557485580444336\n",
            "loss = 20.551517486572266\n",
            "loss = 20.547517776489258\n",
            "loss = 20.544830322265625\n",
            "loss = 20.54302406311035\n",
            "loss = 20.541805267333984\n",
            "loss = 20.540985107421875\n",
            "loss = 20.540428161621094\n",
            "loss = 20.540054321289062\n",
            "loss = 20.5398006439209\n",
            "loss = 20.539627075195312\n",
            "loss = 20.53951072692871\n",
            "loss = 20.539432525634766\n",
            "loss = 20.539377212524414\n",
            "loss = 20.539339065551758\n",
            "loss = 20.539316177368164\n",
            "loss = 20.53929901123047\n",
            "loss = 20.539289474487305\n",
            "loss = 20.53927993774414\n",
            "loss = 20.539274215698242\n",
            "loss = 20.539270401000977\n",
            "loss = 20.539268493652344\n",
            "loss = 20.53926658630371\n",
            "loss = 20.53926658630371\n",
            "loss = 20.53926658630371\n",
            "loss = 20.539264678955078\n",
            "loss = 20.539262771606445\n",
            "loss = 20.539262771606445\n",
            "loss = 20.539264678955078\n",
            "loss = 20.539262771606445\n",
            "loss = 20.539260864257812\n"
          ]
        },
        {
          "output_type": "display_data",
          "data": {
            "text/plain": [
              "<Figure size 640x480 with 1 Axes>"
            ],
            "image/png": "[encoded data removed]"
          },
          "metadata": {}
        }
      ]
    },
    {
      "cell_type": "code",
      "source": [
        "print(f'Final w: {w}')\n",
        "print(f'Final b: {b}')"
      ],
      "metadata": {
        "id": "gYoD9g_NMsWd",
        "colab": {
          "base_uri": "https://localhost:8080/"
        },
        "outputId": "2c0160c2-7e69-42d7-ebe6-8be9b3037ac3"
      },
      "execution_count": null,
      "outputs": [
        {
          "output_type": "stream",
          "name": "stdout",
          "text": [
            "Final w: tensor([[ 0.1988, -0.1309, -0.0467, -0.0519,  0.0991],\n",
            "        [ 0.1988, -0.1309, -0.0467, -0.0519,  0.0991],\n",
            "        [ 0.1988, -0.1309, -0.0467, -0.0519,  0.0991],\n",
            "        [ 0.1988, -0.1310, -0.0467, -0.0519,  0.0991],\n",
            "        [ 0.1988, -0.1310, -0.0467, -0.0519,  0.0991]], requires_grad=True)\n",
            "Final b: tensor([[-0.0513],\n",
            "        [-0.0513],\n",
            "        [-0.0513],\n",
            "        [-0.0513],\n",
            "        [-0.0513]], requires_grad=True)\n"
          ]
        }
      ]
    },
    {
      "cell_type": "markdown",
      "metadata": {
        "id": "5t7iYj2eD-an"
      },
      "source": [
        "## Using Library functions"
      ]
    },
    {
      "cell_type": "code",
      "metadata": {
        "id": "6xg-kywmD-an"
      },
      "source": [
        "# create simple feedforward neural network (MLP)\n",
        "model = torch.nn.Sequential(\n",
        "    torch.nn.Linear(5, 5), # F(WX + B), takes input vectors of size 5 and produces output vectors of size 5.\n",
        "    torch.nn.ReLU(), # Applies ReLU activation function\n",
        "    torch.nn.Linear(5, 1), # output layer\n",
        ")"
      ],
      "execution_count": null,
      "outputs": []
    },
    {
      "cell_type": "code",
      "metadata": {
        "id": "4OocRUb9D-ap",
        "colab": {
          "base_uri": "https://localhost:8080/"
        },
        "outputId": "c6069804-675e-4186-8bfe-2f76f7eb42a8"
      },
      "source": [
        "list(model.parameters()) # automatically initialize parameters"
      ],
      "execution_count": null,
      "outputs": [
        {
          "output_type": "execute_result",
          "data": {
            "text/plain": [
              "[Parameter containing:\n",
              " tensor([[ 0.0502, -0.1427,  0.4463,  0.4034, -0.4111],\n",
              "         [-0.2611,  0.3585, -0.0434,  0.2352, -0.2394],\n",
              "         [-0.0988,  0.0600,  0.3566, -0.0117,  0.0442],\n",
              "         [-0.2810,  0.2298,  0.2913,  0.3164,  0.0653],\n",
              "         [ 0.3525, -0.3680, -0.4081, -0.0025,  0.1025]], requires_grad=True),\n",
              " Parameter containing:\n",
              " tensor([ 0.3352,  0.1273, -0.3896, -0.3816,  0.2401], requires_grad=True),\n",
              " Parameter containing:\n",
              " tensor([[ 0.3821, -0.3142,  0.2906, -0.4443,  0.0521]], requires_grad=True),\n",
              " Parameter containing:\n",
              " tensor([0.1529], requires_grad=True)]"
            ]
          },
          "metadata": {},
          "execution_count": 54
        }
      ]
    },
    {
      "cell_type": "code",
      "metadata": {
        "id": "DgBOzYv5D-aq"
      },
      "source": [
        "# mean square loss → MSE = (1/n) * sum((y_pred - y_true)^2)\n",
        "loss_fn = torch.nn.MSELoss(reduction=\"sum\")"
      ],
      "execution_count": null,
      "outputs": []
    },
    {
      "cell_type": "code",
      "metadata": {
        "id": "_bdGByKKD-as"
      },
      "source": [
        "x = torch.randn(100, 5)\n",
        "yt = torch.randn(100, 1)\n",
        "losses = []"
      ],
      "execution_count": null,
      "outputs": []
    },
    {
      "cell_type": "markdown",
      "metadata": {
        "id": "KupJGFEFD-at"
      },
      "source": [
        "## Using the optim package"
      ]
    },
    {
      "cell_type": "code",
      "metadata": {
        "id": "0Ac8_-reD-au"
      },
      "source": [
        "optimizer = torch.optim.Adam(model.parameters(), lr=0.03) # pass all trainable parameters"
      ],
      "execution_count": null,
      "outputs": []
    },
    {
      "cell_type": "markdown",
      "source": [
        "`optimizer.step()` is used to update the model parameters based on the gradients computed during backpropagation. During training, the optimizer computes the gradients of the loss function with respect to the model parameters\n",
        "  \n",
        "`optimizer.zero_grad()` is used to set the gradients of all the model parameters to zero before computing the gradients for the next batch of data. If we don't zero out the gradients before computing the gradients for the next batch, the gradients will accumulate, leading to incorrect updates and slower convergence."
      ],
      "metadata": {
        "id": "v1T-hdaSYBU7"
      }
    },
    {
      "cell_type": "code",
      "metadata": {
        "id": "xtdxXUcRD-az",
        "colab": {
          "base_uri": "https://localhost:8080/",
          "height": 1000
        },
        "outputId": "858bdd7c-86d3-4974-9dbc-3bf96789b56f"
      },
      "source": [
        "for i in range(1000):\n",
        "    y = model(x)\n",
        "    loss = loss_fn(y, yt)\n",
        "    loss.backward()\n",
        "\n",
        "    # make the parameter to take a step -> update the parameter\n",
        "    optimizer.step()\n",
        "    optimizer.zero_grad()\n",
        "\n",
        "    losses += [loss.item()]\n",
        "    print(f\"loss = {loss}\")\n",
        "plt.plot(losses);"
      ],
      "execution_count": null,
      "outputs": [
        {
          "output_type": "stream",
          "name": "stdout",
          "text": [
            "loss = 99.29678344726562\n",
            "loss = 94.59911346435547\n",
            "loss = 91.69466400146484\n",
            "loss = 89.49272155761719\n",
            "loss = 87.80821990966797\n",
            "loss = 86.51478576660156\n",
            "loss = 85.58882904052734\n",
            "loss = 84.8089828491211\n",
            "loss = 84.1367416381836\n",
            "loss = 83.55131530761719\n",
            "loss = 83.04520416259766\n",
            "loss = 82.50395202636719\n",
            "loss = 81.90431213378906\n",
            "loss = 81.33540344238281\n",
            "loss = 80.76554870605469\n",
            "loss = 80.13177490234375\n",
            "loss = 79.44314575195312\n",
            "loss = 78.6986083984375\n",
            "loss = 78.02889251708984\n",
            "loss = 77.47087097167969\n",
            "loss = 76.97418212890625\n",
            "loss = 76.32892608642578\n",
            "loss = 75.63391876220703\n",
            "loss = 74.98994445800781\n",
            "loss = 74.46410369873047\n",
            "loss = 73.86978149414062\n",
            "loss = 73.19276428222656\n",
            "loss = 72.56536865234375\n",
            "loss = 72.00039672851562\n",
            "loss = 71.46971130371094\n",
            "loss = 70.90898132324219\n",
            "loss = 70.33007049560547\n",
            "loss = 69.75514221191406\n",
            "loss = 69.30944061279297\n",
            "loss = 68.83907318115234\n",
            "loss = 68.29731750488281\n",
            "loss = 67.66146850585938\n",
            "loss = 67.0216293334961\n",
            "loss = 66.45867156982422\n",
            "loss = 65.8777084350586\n",
            "loss = 65.32731628417969\n",
            "loss = 64.86297607421875\n",
            "loss = 64.51231384277344\n",
            "loss = 64.23001098632812\n",
            "loss = 63.94352722167969\n",
            "loss = 63.656246185302734\n",
            "loss = 63.37522888183594\n",
            "loss = 63.0766716003418\n",
            "loss = 62.82828140258789\n",
            "loss = 62.64258575439453\n",
            "loss = 62.45936965942383\n",
            "loss = 62.26205825805664\n",
            "loss = 62.07136154174805\n",
            "loss = 61.879581451416016\n",
            "loss = 61.727725982666016\n",
            "loss = 61.57844924926758\n",
            "loss = 61.33677291870117\n",
            "loss = 61.0892333984375\n",
            "loss = 60.82532501220703\n",
            "loss = 60.53175354003906\n",
            "loss = 60.20723342895508\n",
            "loss = 60.07324981689453\n",
            "loss = 59.859352111816406\n",
            "loss = 59.52179718017578\n",
            "loss = 59.482086181640625\n",
            "loss = 59.35591506958008\n",
            "loss = 59.122962951660156\n",
            "loss = 58.64441680908203\n",
            "loss = 58.43218994140625\n",
            "loss = 58.35930633544922\n",
            "loss = 58.1991081237793\n",
            "loss = 57.91693878173828\n",
            "loss = 57.84027099609375\n",
            "loss = 57.67261505126953\n",
            "loss = 57.636287689208984\n",
            "loss = 57.4576416015625\n",
            "loss = 57.10560607910156\n",
            "loss = 56.80257034301758\n",
            "loss = 56.47858810424805\n",
            "loss = 56.30647659301758\n",
            "loss = 55.975223541259766\n",
            "loss = 55.682159423828125\n",
            "loss = 55.357662200927734\n",
            "loss = 55.094573974609375\n",
            "loss = 54.84562683105469\n",
            "loss = 54.67351531982422\n",
            "loss = 54.41008758544922\n",
            "loss = 54.16084671020508\n",
            "loss = 53.79678726196289\n",
            "loss = 53.59334945678711\n",
            "loss = 53.28062057495117\n",
            "loss = 53.1558723449707\n",
            "loss = 52.919708251953125\n",
            "loss = 52.88264465332031\n",
            "loss = 52.82591247558594\n",
            "loss = 52.71412658691406\n",
            "loss = 52.79884338378906\n",
            "loss = 52.739601135253906\n",
            "loss = 52.73310089111328\n",
            "loss = 52.72907638549805\n",
            "loss = 52.77433395385742\n",
            "loss = 52.77479934692383\n",
            "loss = 52.71693420410156\n",
            "loss = 52.712467193603516\n",
            "loss = 52.6794319152832\n",
            "loss = 52.64572525024414\n",
            "loss = 52.61867904663086\n",
            "loss = 52.57645797729492\n",
            "loss = 52.56946563720703\n",
            "loss = 52.539405822753906\n",
            "loss = 52.54560852050781\n",
            "loss = 52.522850036621094\n",
            "loss = 52.50159454345703\n",
            "loss = 52.47978973388672\n",
            "loss = 52.5009651184082\n",
            "loss = 52.46707534790039\n",
            "loss = 52.4581413269043\n",
            "loss = 52.43877410888672\n",
            "loss = 52.46125030517578\n",
            "loss = 52.45169448852539\n",
            "loss = 52.462467193603516\n",
            "loss = 52.480987548828125\n",
            "loss = 52.4485969543457\n",
            "loss = 52.43543243408203\n",
            "loss = 52.38975524902344\n",
            "loss = 52.38505935668945\n",
            "loss = 52.39733123779297\n",
            "loss = 52.40803146362305\n",
            "loss = 52.40503692626953\n",
            "loss = 52.38969802856445\n",
            "loss = 52.40654754638672\n",
            "loss = 52.39531707763672\n",
            "loss = 52.33679962158203\n",
            "loss = 52.335548400878906\n",
            "loss = 52.35605239868164\n",
            "loss = 52.335166931152344\n",
            "loss = 52.339454650878906\n",
            "loss = 52.35392761230469\n",
            "loss = 52.349796295166016\n",
            "loss = 52.353515625\n",
            "loss = 52.356231689453125\n",
            "loss = 52.32243728637695\n",
            "loss = 52.3165168762207\n",
            "loss = 52.37795639038086\n",
            "loss = 52.313289642333984\n",
            "loss = 52.32292175292969\n",
            "loss = 52.34142303466797\n",
            "loss = 52.352439880371094\n",
            "loss = 52.34935760498047\n",
            "loss = 52.321067810058594\n",
            "loss = 52.29960250854492\n",
            "loss = 52.30312728881836\n",
            "loss = 52.315189361572266\n",
            "loss = 52.299713134765625\n",
            "loss = 52.27182388305664\n",
            "loss = 52.277915954589844\n",
            "loss = 52.27653884887695\n",
            "loss = 52.288658142089844\n",
            "loss = 52.298824310302734\n",
            "loss = 52.315330505371094\n",
            "loss = 52.286075592041016\n",
            "loss = 52.24691390991211\n",
            "loss = 52.3055305480957\n",
            "loss = 52.27528762817383\n",
            "loss = 52.25799560546875\n",
            "loss = 52.278648376464844\n",
            "loss = 52.24547576904297\n",
            "loss = 52.23732376098633\n",
            "loss = 52.2559814453125\n",
            "loss = 52.2278938293457\n",
            "loss = 52.26275634765625\n",
            "loss = 52.2291374206543\n",
            "loss = 52.20905303955078\n",
            "loss = 52.301063537597656\n",
            "loss = 52.229549407958984\n",
            "loss = 52.231868743896484\n",
            "loss = 52.25147247314453\n",
            "loss = 52.22247314453125\n",
            "loss = 52.20951843261719\n",
            "loss = 52.23011779785156\n",
            "loss = 52.23631286621094\n",
            "loss = 52.220680236816406\n",
            "loss = 52.21775436401367\n",
            "loss = 52.23603820800781\n",
            "loss = 52.194461822509766\n",
            "loss = 52.2313232421875\n",
            "loss = 52.19345474243164\n",
            "loss = 52.19870376586914\n",
            "loss = 52.232666015625\n",
            "loss = 52.22728729248047\n",
            "loss = 52.21784591674805\n",
            "loss = 52.20391082763672\n",
            "loss = 52.19740295410156\n",
            "loss = 52.19499588012695\n",
            "loss = 52.23056411743164\n",
            "loss = 52.20256042480469\n",
            "loss = 52.183860778808594\n",
            "loss = 52.15829849243164\n",
            "loss = 52.197540283203125\n",
            "loss = 52.178836822509766\n",
            "loss = 52.15254211425781\n",
            "loss = 52.181785583496094\n",
            "loss = 52.16825485229492\n",
            "loss = 52.168792724609375\n",
            "loss = 52.186607360839844\n",
            "loss = 52.13855743408203\n",
            "loss = 52.169891357421875\n",
            "loss = 52.17329788208008\n",
            "loss = 52.14598846435547\n",
            "loss = 52.160736083984375\n",
            "loss = 52.128150939941406\n",
            "loss = 52.168888092041016\n",
            "loss = 52.13983917236328\n",
            "loss = 52.12409210205078\n",
            "loss = 52.14338302612305\n",
            "loss = 52.10930633544922\n",
            "loss = 52.136817932128906\n",
            "loss = 52.12104034423828\n",
            "loss = 52.11285400390625\n",
            "loss = 52.1568489074707\n",
            "loss = 52.101348876953125\n",
            "loss = 52.13826370239258\n",
            "loss = 52.121795654296875\n",
            "loss = 52.09663009643555\n",
            "loss = 52.145835876464844\n",
            "loss = 52.10306930541992\n",
            "loss = 52.130104064941406\n",
            "loss = 52.099342346191406\n",
            "loss = 52.098506927490234\n",
            "loss = 52.087711334228516\n",
            "loss = 52.090538024902344\n",
            "loss = 52.125980377197266\n",
            "loss = 52.0963020324707\n",
            "loss = 52.09962844848633\n",
            "loss = 52.10820388793945\n",
            "loss = 52.126014709472656\n",
            "loss = 52.135894775390625\n",
            "loss = 52.082618713378906\n",
            "loss = 52.09716033935547\n",
            "loss = 52.11397171020508\n",
            "loss = 52.1329231262207\n",
            "loss = 52.10321044921875\n",
            "loss = 52.09278106689453\n",
            "loss = 52.15365982055664\n",
            "loss = 52.15486526489258\n",
            "loss = 52.108497619628906\n",
            "loss = 52.107086181640625\n",
            "loss = 52.11577606201172\n",
            "loss = 52.097572326660156\n",
            "loss = 52.080013275146484\n",
            "loss = 52.055816650390625\n",
            "loss = 52.1049919128418\n",
            "loss = 52.088436126708984\n",
            "loss = 52.06666946411133\n",
            "loss = 52.03999328613281\n",
            "loss = 52.062007904052734\n",
            "loss = 52.07651138305664\n",
            "loss = 52.04131317138672\n",
            "loss = 52.054744720458984\n",
            "loss = 52.0564079284668\n",
            "loss = 52.0596809387207\n",
            "loss = 52.09421157836914\n",
            "loss = 52.0509033203125\n",
            "loss = 52.04140853881836\n",
            "loss = 52.107566833496094\n",
            "loss = 52.04413604736328\n",
            "loss = 52.073570251464844\n",
            "loss = 52.037174224853516\n",
            "loss = 52.051979064941406\n",
            "loss = 52.041996002197266\n",
            "loss = 52.048179626464844\n",
            "loss = 52.093929290771484\n",
            "loss = 52.037681579589844\n",
            "loss = 52.03085708618164\n",
            "loss = 52.10114288330078\n",
            "loss = 52.06303787231445\n",
            "loss = 52.08424377441406\n",
            "loss = 52.03342056274414\n",
            "loss = 52.05244827270508\n",
            "loss = 52.08330154418945\n",
            "loss = 52.02370834350586\n",
            "loss = 52.08555221557617\n",
            "loss = 52.0186767578125\n",
            "loss = 52.01749038696289\n",
            "loss = 52.03114318847656\n",
            "loss = 51.99504089355469\n",
            "loss = 52.0577278137207\n",
            "loss = 52.02882766723633\n",
            "loss = 51.99803161621094\n",
            "loss = 52.0156135559082\n",
            "loss = 51.98691940307617\n",
            "loss = 52.040061950683594\n",
            "loss = 51.98722457885742\n",
            "loss = 52.00092315673828\n",
            "loss = 52.019596099853516\n",
            "loss = 52.01397705078125\n",
            "loss = 52.087135314941406\n",
            "loss = 52.007999420166016\n",
            "loss = 51.98889923095703\n",
            "loss = 52.08428192138672\n",
            "loss = 51.98194885253906\n",
            "loss = 52.073753356933594\n",
            "loss = 52.00731658935547\n",
            "loss = 51.981842041015625\n",
            "loss = 52.063812255859375\n",
            "loss = 52.02784729003906\n",
            "loss = 52.096343994140625\n",
            "loss = 52.056739807128906\n",
            "loss = 51.99891662597656\n",
            "loss = 52.01726150512695\n",
            "loss = 52.014060974121094\n",
            "loss = 52.061370849609375\n",
            "loss = 52.01481628417969\n",
            "loss = 51.96561050415039\n",
            "loss = 51.97464370727539\n",
            "loss = 51.98273849487305\n",
            "loss = 52.023990631103516\n",
            "loss = 51.97956848144531\n",
            "loss = 51.951759338378906\n",
            "loss = 52.060585021972656\n",
            "loss = 51.95189666748047\n",
            "loss = 52.01493835449219\n",
            "loss = 51.980377197265625\n",
            "loss = 51.94416427612305\n",
            "loss = 52.019527435302734\n",
            "loss = 51.94794845581055\n",
            "loss = 51.9808464050293\n",
            "loss = 51.96239471435547\n",
            "loss = 51.95900344848633\n",
            "loss = 51.97421646118164\n",
            "loss = 51.940147399902344\n",
            "loss = 51.97573471069336\n",
            "loss = 51.94712448120117\n",
            "loss = 51.923004150390625\n",
            "loss = 51.96473693847656\n",
            "loss = 51.929298400878906\n",
            "loss = 51.9608154296875\n",
            "loss = 51.92243194580078\n",
            "loss = 51.929931640625\n",
            "loss = 51.987144470214844\n",
            "loss = 51.972808837890625\n",
            "loss = 52.01858901977539\n",
            "loss = 51.94754409790039\n",
            "loss = 51.92410659790039\n",
            "loss = 52.004249572753906\n",
            "loss = 51.974388122558594\n",
            "loss = 52.09972381591797\n",
            "loss = 52.13313674926758\n",
            "loss = 52.14178466796875\n",
            "loss = 52.025848388671875\n",
            "loss = 51.94850540161133\n",
            "loss = 52.05613708496094\n",
            "loss = 52.105445861816406\n",
            "loss = 52.093841552734375\n",
            "loss = 51.991947174072266\n",
            "loss = 51.967926025390625\n",
            "loss = 52.080081939697266\n",
            "loss = 52.06706619262695\n",
            "loss = 51.98848342895508\n",
            "loss = 51.954036712646484\n",
            "loss = 52.0114860534668\n",
            "loss = 52.04544448852539\n",
            "loss = 51.99246597290039\n",
            "loss = 51.945892333984375\n",
            "loss = 52.090309143066406\n",
            "loss = 52.09090805053711\n",
            "loss = 51.95551681518555\n",
            "loss = 52.02785873413086\n",
            "loss = 52.0363883972168\n",
            "loss = 52.04725646972656\n",
            "loss = 52.02622985839844\n",
            "loss = 51.950042724609375\n",
            "loss = 51.980224609375\n",
            "loss = 51.979862213134766\n",
            "loss = 51.966339111328125\n",
            "loss = 51.92848205566406\n",
            "loss = 51.98113250732422\n",
            "loss = 51.95143127441406\n",
            "loss = 51.91584777832031\n",
            "loss = 51.9568977355957\n",
            "loss = 51.99119567871094\n",
            "loss = 51.93207550048828\n",
            "loss = 51.92390823364258\n",
            "loss = 51.93155288696289\n",
            "loss = 51.90608596801758\n",
            "loss = 51.91954803466797\n",
            "loss = 51.961570739746094\n",
            "loss = 51.95442581176758\n",
            "loss = 51.91557312011719\n",
            "loss = 51.916465759277344\n",
            "loss = 51.964378356933594\n",
            "loss = 51.92445373535156\n",
            "loss = 51.939998626708984\n",
            "loss = 51.95263671875\n",
            "loss = 51.912574768066406\n",
            "loss = 51.93733215332031\n",
            "loss = 51.92753219604492\n",
            "loss = 51.933040618896484\n",
            "loss = 52.01703643798828\n",
            "loss = 52.058414459228516\n",
            "loss = 51.95362854003906\n",
            "loss = 51.92683410644531\n",
            "loss = 51.95866012573242\n",
            "loss = 51.96253967285156\n",
            "loss = 51.93681335449219\n",
            "loss = 51.88279724121094\n",
            "loss = 51.890830993652344\n",
            "loss = 51.92378234863281\n",
            "loss = 51.93489456176758\n",
            "loss = 51.949344635009766\n",
            "loss = 51.898902893066406\n",
            "loss = 51.90184783935547\n",
            "loss = 51.92396545410156\n",
            "loss = 51.946590423583984\n",
            "loss = 51.90974044799805\n",
            "loss = 51.94172286987305\n",
            "loss = 51.920509338378906\n",
            "loss = 51.974281311035156\n",
            "loss = 51.921409606933594\n",
            "loss = 51.858272552490234\n",
            "loss = 51.936527252197266\n",
            "loss = 51.96216583251953\n",
            "loss = 51.908538818359375\n",
            "loss = 51.915672302246094\n",
            "loss = 51.92549514770508\n",
            "loss = 51.95830154418945\n",
            "loss = 51.96861267089844\n",
            "loss = 51.94426345825195\n",
            "loss = 51.925865173339844\n",
            "loss = 51.94076919555664\n",
            "loss = 51.9307861328125\n",
            "loss = 51.91205978393555\n",
            "loss = 51.91115951538086\n",
            "loss = 51.92474365234375\n",
            "loss = 51.87559509277344\n",
            "loss = 51.88056182861328\n",
            "loss = 51.919864654541016\n",
            "loss = 51.86321258544922\n",
            "loss = 51.92820739746094\n",
            "loss = 52.0070915222168\n",
            "loss = 52.0666618347168\n",
            "loss = 51.9531364440918\n",
            "loss = 51.90071487426758\n",
            "loss = 51.9599494934082\n",
            "loss = 51.96454620361328\n",
            "loss = 51.87833786010742\n",
            "loss = 51.8654670715332\n",
            "loss = 51.9737663269043\n",
            "loss = 51.86964797973633\n",
            "loss = 51.88475036621094\n",
            "loss = 51.87027359008789\n",
            "loss = 51.85584259033203\n",
            "loss = 51.919593811035156\n",
            "loss = 51.91823959350586\n",
            "loss = 51.89351272583008\n",
            "loss = 51.91116714477539\n",
            "loss = 51.961585998535156\n",
            "loss = 51.8751335144043\n",
            "loss = 51.864627838134766\n",
            "loss = 51.96586990356445\n",
            "loss = 51.90187072753906\n",
            "loss = 51.92047119140625\n",
            "loss = 51.88883972167969\n",
            "loss = 51.87090301513672\n",
            "loss = 51.89976119995117\n",
            "loss = 51.92002487182617\n",
            "loss = 51.84225845336914\n",
            "loss = 51.84751892089844\n",
            "loss = 51.844078063964844\n",
            "loss = 51.8528938293457\n",
            "loss = 51.87689971923828\n",
            "loss = 51.8754768371582\n",
            "loss = 51.881038665771484\n",
            "loss = 51.90370178222656\n",
            "loss = 51.940711975097656\n",
            "loss = 51.890689849853516\n",
            "loss = 51.86008071899414\n",
            "loss = 51.929527282714844\n",
            "loss = 51.893550872802734\n",
            "loss = 51.885780334472656\n",
            "loss = 51.864166259765625\n",
            "loss = 51.84272766113281\n",
            "loss = 51.93185806274414\n",
            "loss = 51.84718322753906\n",
            "loss = 51.870811462402344\n",
            "loss = 51.83280563354492\n",
            "loss = 51.902557373046875\n",
            "loss = 51.961307525634766\n",
            "loss = 51.8871955871582\n",
            "loss = 51.89330291748047\n",
            "loss = 51.95325469970703\n",
            "loss = 51.88768005371094\n",
            "loss = 51.86304473876953\n",
            "loss = 51.88470458984375\n",
            "loss = 51.92405700683594\n",
            "loss = 51.907894134521484\n",
            "loss = 51.858314514160156\n",
            "loss = 51.90095901489258\n",
            "loss = 51.873046875\n",
            "loss = 51.85556411743164\n",
            "loss = 51.801536560058594\n",
            "loss = 51.751529693603516\n",
            "loss = 51.867034912109375\n",
            "loss = 51.757179260253906\n",
            "loss = 51.81593704223633\n",
            "loss = 51.75228500366211\n",
            "loss = 51.786739349365234\n",
            "loss = 51.74549102783203\n",
            "loss = 51.753421783447266\n",
            "loss = 51.74182891845703\n",
            "loss = 51.707237243652344\n",
            "loss = 51.721290588378906\n",
            "loss = 51.704559326171875\n",
            "loss = 51.743751525878906\n",
            "loss = 51.766395568847656\n",
            "loss = 51.772098541259766\n",
            "loss = 51.75654983520508\n",
            "loss = 51.753116607666016\n",
            "loss = 51.86433029174805\n",
            "loss = 51.887451171875\n",
            "loss = 51.78293228149414\n",
            "loss = 51.71839141845703\n",
            "loss = 51.761112213134766\n",
            "loss = 51.829586029052734\n",
            "loss = 51.805702209472656\n",
            "loss = 51.73265838623047\n",
            "loss = 51.711158752441406\n",
            "loss = 51.83793258666992\n",
            "loss = 51.903751373291016\n",
            "loss = 51.813114166259766\n",
            "loss = 51.726566314697266\n",
            "loss = 51.7593994140625\n",
            "loss = 51.80078887939453\n",
            "loss = 51.73408508300781\n",
            "loss = 51.70683288574219\n",
            "loss = 51.72666931152344\n",
            "loss = 51.747257232666016\n",
            "loss = 51.73857116699219\n",
            "loss = 51.71571731567383\n",
            "loss = 51.68473434448242\n",
            "loss = 51.69890213012695\n",
            "loss = 51.65517044067383\n",
            "loss = 51.67121505737305\n",
            "loss = 51.66020202636719\n",
            "loss = 51.75053024291992\n",
            "loss = 51.76582717895508\n",
            "loss = 51.65449905395508\n",
            "loss = 51.71126937866211\n",
            "loss = 51.66156005859375\n",
            "loss = 51.66777801513672\n",
            "loss = 51.687339782714844\n",
            "loss = 51.62260437011719\n",
            "loss = 51.715576171875\n",
            "loss = 51.68644332885742\n",
            "loss = 51.69300842285156\n",
            "loss = 51.680545806884766\n",
            "loss = 51.68169403076172\n",
            "loss = 51.67384719848633\n",
            "loss = 51.62612533569336\n",
            "loss = 51.63402557373047\n",
            "loss = 51.606632232666016\n",
            "loss = 51.629493713378906\n",
            "loss = 51.65955352783203\n",
            "loss = 51.7056999206543\n",
            "loss = 51.65380096435547\n",
            "loss = 51.62820053100586\n",
            "loss = 51.63191223144531\n",
            "loss = 51.62380599975586\n",
            "loss = 51.66798400878906\n",
            "loss = 51.635406494140625\n",
            "loss = 51.6017951965332\n",
            "loss = 51.66990280151367\n",
            "loss = 51.649925231933594\n",
            "loss = 51.6878547668457\n",
            "loss = 51.65582275390625\n",
            "loss = 51.602657318115234\n",
            "loss = 51.629966735839844\n",
            "loss = 51.66973876953125\n",
            "loss = 51.71548843383789\n",
            "loss = 51.641361236572266\n",
            "loss = 51.653770446777344\n",
            "loss = 51.5551872253418\n",
            "loss = 51.65470886230469\n",
            "loss = 51.63117599487305\n",
            "loss = 51.63155746459961\n",
            "loss = 51.63819122314453\n",
            "loss = 51.62575149536133\n",
            "loss = 51.65150451660156\n",
            "loss = 51.5536994934082\n",
            "loss = 51.62224578857422\n",
            "loss = 51.61909484863281\n",
            "loss = 51.649452209472656\n",
            "loss = 51.706932067871094\n",
            "loss = 51.58259201049805\n",
            "loss = 51.68597412109375\n",
            "loss = 51.61309814453125\n",
            "loss = 51.641963958740234\n",
            "loss = 51.64452362060547\n",
            "loss = 51.564292907714844\n",
            "loss = 51.5794563293457\n",
            "loss = 51.59223556518555\n",
            "loss = 51.59278869628906\n",
            "loss = 51.64353561401367\n",
            "loss = 51.558406829833984\n",
            "loss = 51.627227783203125\n",
            "loss = 51.596553802490234\n",
            "loss = 51.584075927734375\n",
            "loss = 51.54066848754883\n",
            "loss = 51.51966857910156\n",
            "loss = 51.57806396484375\n",
            "loss = 51.55303955078125\n",
            "loss = 51.65678024291992\n",
            "loss = 51.64206314086914\n",
            "loss = 51.62301254272461\n",
            "loss = 51.56117248535156\n",
            "loss = 51.53558349609375\n",
            "loss = 51.53645706176758\n",
            "loss = 51.533260345458984\n",
            "loss = 51.52323913574219\n",
            "loss = 51.55232238769531\n",
            "loss = 51.54867935180664\n",
            "loss = 51.52701187133789\n",
            "loss = 51.5280876159668\n",
            "loss = 51.531253814697266\n",
            "loss = 51.5015869140625\n",
            "loss = 51.512359619140625\n",
            "loss = 51.491371154785156\n",
            "loss = 51.530372619628906\n",
            "loss = 51.53575897216797\n",
            "loss = 51.49686813354492\n",
            "loss = 51.55437088012695\n",
            "loss = 51.50222396850586\n",
            "loss = 51.55921936035156\n",
            "loss = 51.54585647583008\n",
            "loss = 51.49901580810547\n",
            "loss = 51.577178955078125\n",
            "loss = 51.50979232788086\n",
            "loss = 51.629112243652344\n",
            "loss = 51.60868453979492\n",
            "loss = 51.58663558959961\n",
            "loss = 51.55036544799805\n",
            "loss = 51.507957458496094\n",
            "loss = 51.47019577026367\n",
            "loss = 51.48626708984375\n",
            "loss = 51.50579071044922\n",
            "loss = 51.54338455200195\n",
            "loss = 51.56939697265625\n",
            "loss = 51.61652374267578\n",
            "loss = 51.5606689453125\n",
            "loss = 51.514652252197266\n",
            "loss = 51.45532989501953\n",
            "loss = 51.45934295654297\n",
            "loss = 51.502716064453125\n",
            "loss = 51.51961898803711\n",
            "loss = 51.53730773925781\n",
            "loss = 51.49586486816406\n",
            "loss = 51.49120330810547\n",
            "loss = 51.5064582824707\n",
            "loss = 51.46730422973633\n",
            "loss = 51.47011184692383\n",
            "loss = 51.50684356689453\n",
            "loss = 51.52029037475586\n",
            "loss = 51.43217849731445\n",
            "loss = 51.47774124145508\n",
            "loss = 51.54397964477539\n",
            "loss = 51.53076934814453\n",
            "loss = 51.55440902709961\n",
            "loss = 51.507747650146484\n",
            "loss = 51.45054244995117\n",
            "loss = 51.44830322265625\n",
            "loss = 51.505062103271484\n",
            "loss = 51.50122833251953\n",
            "loss = 51.44633865356445\n",
            "loss = 51.4370002746582\n",
            "loss = 51.46834182739258\n",
            "loss = 51.48640441894531\n",
            "loss = 51.504825592041016\n",
            "loss = 51.47321319580078\n",
            "loss = 51.45381164550781\n",
            "loss = 51.46684646606445\n",
            "loss = 51.452659606933594\n",
            "loss = 51.42719650268555\n",
            "loss = 51.390533447265625\n",
            "loss = 51.418212890625\n",
            "loss = 51.401023864746094\n",
            "loss = 51.42015838623047\n",
            "loss = 51.51272964477539\n",
            "loss = 51.46025085449219\n",
            "loss = 51.58087158203125\n",
            "loss = 51.63396453857422\n",
            "loss = 51.66106414794922\n",
            "loss = 51.58220672607422\n",
            "loss = 51.46592712402344\n",
            "loss = 51.40144729614258\n",
            "loss = 51.379547119140625\n",
            "loss = 51.370548248291016\n",
            "loss = 51.48159408569336\n",
            "loss = 51.5025634765625\n",
            "loss = 51.46091079711914\n",
            "loss = 51.442176818847656\n",
            "loss = 51.401466369628906\n",
            "loss = 51.394187927246094\n",
            "loss = 51.37208938598633\n",
            "loss = 51.36814880371094\n",
            "loss = 51.342533111572266\n",
            "loss = 51.35309600830078\n",
            "loss = 51.38846969604492\n",
            "loss = 51.45480728149414\n",
            "loss = 51.47631072998047\n",
            "loss = 51.453670501708984\n",
            "loss = 51.404075622558594\n",
            "loss = 51.369232177734375\n",
            "loss = 51.42416763305664\n",
            "loss = 51.55341720581055\n",
            "loss = 51.633445739746094\n",
            "loss = 51.56653594970703\n",
            "loss = 51.408939361572266\n",
            "loss = 51.380592346191406\n",
            "loss = 51.375099182128906\n",
            "loss = 51.37103271484375\n",
            "loss = 51.41497802734375\n",
            "loss = 51.360836029052734\n",
            "loss = 51.35577392578125\n",
            "loss = 51.381038665771484\n",
            "loss = 51.43010711669922\n",
            "loss = 51.40841293334961\n",
            "loss = 51.41546630859375\n",
            "loss = 51.35385513305664\n",
            "loss = 51.36910629272461\n",
            "loss = 51.36551284790039\n",
            "loss = 51.339683532714844\n",
            "loss = 51.418846130371094\n",
            "loss = 51.460670471191406\n",
            "loss = 51.40182113647461\n",
            "loss = 51.39644241333008\n",
            "loss = 51.45039367675781\n",
            "loss = 51.42587661743164\n",
            "loss = 51.406707763671875\n",
            "loss = 51.401485443115234\n",
            "loss = 51.35451126098633\n",
            "loss = 51.415496826171875\n",
            "loss = 51.39948654174805\n",
            "loss = 51.360992431640625\n",
            "loss = 51.3872184753418\n",
            "loss = 51.37784194946289\n",
            "loss = 51.43260192871094\n",
            "loss = 51.414146423339844\n",
            "loss = 51.38311004638672\n",
            "loss = 51.34776306152344\n",
            "loss = 51.32120132446289\n",
            "loss = 51.36962890625\n",
            "loss = 51.356075286865234\n",
            "loss = 51.30080795288086\n",
            "loss = 51.33053207397461\n",
            "loss = 51.33811569213867\n",
            "loss = 51.324825286865234\n",
            "loss = 51.40925598144531\n",
            "loss = 51.484657287597656\n",
            "loss = 51.446014404296875\n",
            "loss = 51.347660064697266\n",
            "loss = 51.383949279785156\n",
            "loss = 51.38262176513672\n",
            "loss = 51.406639099121094\n",
            "loss = 51.38459777832031\n",
            "loss = 51.38787841796875\n",
            "loss = 51.301700592041016\n",
            "loss = 51.311187744140625\n",
            "loss = 51.33285903930664\n",
            "loss = 51.33332061767578\n",
            "loss = 51.34766387939453\n",
            "loss = 51.38451385498047\n",
            "loss = 51.3060302734375\n",
            "loss = 51.32980728149414\n",
            "loss = 51.34275817871094\n",
            "loss = 51.30503463745117\n",
            "loss = 51.31624984741211\n",
            "loss = 51.33930969238281\n",
            "loss = 51.280433654785156\n",
            "loss = 51.328487396240234\n",
            "loss = 51.31886672973633\n",
            "loss = 51.385704040527344\n",
            "loss = 51.318084716796875\n",
            "loss = 51.374881744384766\n",
            "loss = 51.2988395690918\n",
            "loss = 51.44607925415039\n",
            "loss = 51.472572326660156\n",
            "loss = 51.54790496826172\n",
            "loss = 51.457515716552734\n",
            "loss = 51.41897964477539\n",
            "loss = 51.31867218017578\n",
            "loss = 51.286014556884766\n",
            "loss = 51.34539031982422\n",
            "loss = 51.293540954589844\n",
            "loss = 51.415191650390625\n",
            "loss = 51.41075897216797\n",
            "loss = 51.45891189575195\n",
            "loss = 51.43254089355469\n",
            "loss = 51.415199279785156\n",
            "loss = 51.43374252319336\n",
            "loss = 51.37481689453125\n",
            "loss = 51.363258361816406\n",
            "loss = 51.31220245361328\n",
            "loss = 51.31794738769531\n",
            "loss = 51.313873291015625\n",
            "loss = 51.39156723022461\n",
            "loss = 51.348228454589844\n",
            "loss = 51.30694580078125\n",
            "loss = 51.360694885253906\n",
            "loss = 51.361419677734375\n",
            "loss = 51.46021270751953\n",
            "loss = 51.489166259765625\n",
            "loss = 51.43234634399414\n",
            "loss = 51.30211639404297\n",
            "loss = 51.29252624511719\n",
            "loss = 51.30521774291992\n",
            "loss = 51.37668228149414\n",
            "loss = 51.467098236083984\n",
            "loss = 51.53289031982422\n",
            "loss = 51.40922927856445\n",
            "loss = 51.34682083129883\n",
            "loss = 51.354549407958984\n",
            "loss = 51.466644287109375\n",
            "loss = 51.55772018432617\n",
            "loss = 51.43292236328125\n",
            "loss = 51.3284797668457\n",
            "loss = 51.24745178222656\n",
            "loss = 51.370872497558594\n",
            "loss = 51.453556060791016\n",
            "loss = 51.37492370605469\n",
            "loss = 51.24382019042969\n",
            "loss = 51.23747253417969\n",
            "loss = 51.357730865478516\n",
            "loss = 51.391197204589844\n",
            "loss = 51.297054290771484\n",
            "loss = 51.27301788330078\n",
            "loss = 51.239707946777344\n",
            "loss = 51.2583122253418\n",
            "loss = 51.277259826660156\n",
            "loss = 51.23473358154297\n",
            "loss = 51.27061080932617\n",
            "loss = 51.247642517089844\n",
            "loss = 51.25780487060547\n",
            "loss = 51.22776412963867\n",
            "loss = 51.22708511352539\n",
            "loss = 51.28082275390625\n",
            "loss = 51.321022033691406\n",
            "loss = 51.22047805786133\n",
            "loss = 51.283203125\n",
            "loss = 51.283939361572266\n",
            "loss = 51.278358459472656\n",
            "loss = 51.22843551635742\n",
            "loss = 51.20703887939453\n",
            "loss = 51.24106216430664\n",
            "loss = 51.21412658691406\n",
            "loss = 51.20854187011719\n",
            "loss = 51.25801086425781\n",
            "loss = 51.258785247802734\n",
            "loss = 51.215484619140625\n",
            "loss = 51.15562438964844\n",
            "loss = 51.30881881713867\n",
            "loss = 51.35932159423828\n",
            "loss = 51.41924285888672\n",
            "loss = 51.31504440307617\n",
            "loss = 51.32585906982422\n",
            "loss = 51.24845886230469\n",
            "loss = 51.26578903198242\n",
            "loss = 51.31267166137695\n",
            "loss = 51.30741882324219\n",
            "loss = 51.277435302734375\n",
            "loss = 51.21982192993164\n",
            "loss = 51.315818786621094\n",
            "loss = 51.279605865478516\n",
            "loss = 51.27863311767578\n",
            "loss = 51.2130126953125\n",
            "loss = 51.17790222167969\n",
            "loss = 51.247474670410156\n",
            "loss = 51.410640716552734\n",
            "loss = 51.343143463134766\n",
            "loss = 51.31989288330078\n",
            "loss = 51.21072769165039\n",
            "loss = 51.2100944519043\n",
            "loss = 51.28417205810547\n",
            "loss = 51.36931228637695\n",
            "loss = 51.283905029296875\n",
            "loss = 51.20210647583008\n",
            "loss = 51.198883056640625\n",
            "loss = 51.33689498901367\n",
            "loss = 51.466583251953125\n",
            "loss = 51.339012145996094\n",
            "loss = 51.186214447021484\n",
            "loss = 51.28586196899414\n",
            "loss = 51.27494430541992\n",
            "loss = 51.32542419433594\n",
            "loss = 51.33442306518555\n",
            "loss = 51.26006317138672\n",
            "loss = 51.19419860839844\n",
            "loss = 51.27223587036133\n",
            "loss = 51.32768249511719\n",
            "loss = 51.215362548828125\n",
            "loss = 51.229129791259766\n",
            "loss = 51.25743103027344\n",
            "loss = 51.24553298950195\n",
            "loss = 51.226295471191406\n",
            "loss = 51.18009567260742\n",
            "loss = 51.186439514160156\n",
            "loss = 51.184364318847656\n",
            "loss = 51.228031158447266\n",
            "loss = 51.292991638183594\n",
            "loss = 51.272552490234375\n",
            "loss = 51.160301208496094\n",
            "loss = 51.146827697753906\n",
            "loss = 51.274051666259766\n",
            "loss = 51.3172607421875\n",
            "loss = 51.23200988769531\n",
            "loss = 51.18834686279297\n",
            "loss = 51.197906494140625\n",
            "loss = 51.218597412109375\n",
            "loss = 51.18931579589844\n",
            "loss = 51.19184875488281\n",
            "loss = 51.1640510559082\n",
            "loss = 51.1733512878418\n",
            "loss = 51.19757843017578\n",
            "loss = 51.22597122192383\n",
            "loss = 51.19133377075195\n",
            "loss = 51.134708404541016\n",
            "loss = 51.19176483154297\n",
            "loss = 51.20580291748047\n",
            "loss = 51.142333984375\n",
            "loss = 51.16872787475586\n",
            "loss = 51.2130126953125\n",
            "loss = 51.16922378540039\n",
            "loss = 51.128028869628906\n",
            "loss = 51.16115951538086\n",
            "loss = 51.17551040649414\n",
            "loss = 51.171600341796875\n",
            "loss = 51.23134994506836\n",
            "loss = 51.22591781616211\n",
            "loss = 51.21607208251953\n",
            "loss = 51.13054275512695\n",
            "loss = 51.222747802734375\n",
            "loss = 51.31037521362305\n",
            "loss = 51.273170471191406\n",
            "loss = 51.219940185546875\n",
            "loss = 51.185550689697266\n",
            "loss = 51.128662109375\n",
            "loss = 51.1250114440918\n",
            "loss = 51.235286712646484\n",
            "loss = 51.23846435546875\n",
            "loss = 51.21897506713867\n",
            "loss = 51.210018157958984\n",
            "loss = 51.16178512573242\n",
            "loss = 51.235042572021484\n",
            "loss = 51.17459487915039\n",
            "loss = 51.214324951171875\n",
            "loss = 51.162620544433594\n",
            "loss = 51.198097229003906\n",
            "loss = 51.179725646972656\n",
            "loss = 51.161136627197266\n",
            "loss = 51.16054916381836\n",
            "loss = 51.142372131347656\n",
            "loss = 51.15235900878906\n",
            "loss = 51.177589416503906\n",
            "loss = 51.19353103637695\n",
            "loss = 51.182167053222656\n",
            "loss = 51.18839645385742\n",
            "loss = 51.17426681518555\n",
            "loss = 51.171424865722656\n",
            "loss = 51.14202880859375\n",
            "loss = 51.176292419433594\n",
            "loss = 51.18122100830078\n",
            "loss = 51.15714645385742\n",
            "loss = 51.14093017578125\n",
            "loss = 51.15987014770508\n",
            "loss = 51.193138122558594\n",
            "loss = 51.13397216796875\n",
            "loss = 51.15498352050781\n",
            "loss = 51.130714416503906\n",
            "loss = 51.179481506347656\n",
            "loss = 51.123260498046875\n",
            "loss = 51.156028747558594\n",
            "loss = 51.089012145996094\n",
            "loss = 51.172119140625\n",
            "loss = 51.16777038574219\n",
            "loss = 51.181983947753906\n",
            "loss = 51.13083267211914\n",
            "loss = 51.091129302978516\n",
            "loss = 51.108787536621094\n",
            "loss = 51.12102508544922\n",
            "loss = 51.109989166259766\n",
            "loss = 51.12044143676758\n",
            "loss = 51.13840103149414\n",
            "loss = 51.15594482421875\n",
            "loss = 51.14009475708008\n",
            "loss = 51.118961334228516\n",
            "loss = 51.086463928222656\n",
            "loss = 51.13029098510742\n",
            "loss = 51.220603942871094\n",
            "loss = 51.279972076416016\n",
            "loss = 51.21931457519531\n",
            "loss = 51.19731140136719\n"
          ]
        },
        {
          "output_type": "display_data",
          "data": {
            "text/plain": [
              "<Figure size 640x480 with 1 Axes>"
            ],
            "image/png": "[encoded data removed]"
          },
          "metadata": {}
        }
      ]
    },
    {
      "cell_type": "markdown",
      "metadata": {
        "id": "tRlkcpT0D-a1"
      },
      "source": [
        "## MNIST Example"
      ]
    },
    {
      "cell_type": "code",
      "metadata": {
        "id": "F4GfdMRhD-a1"
      },
      "source": [
        "from torchvision.datasets import MNIST"
      ],
      "execution_count": null,
      "outputs": []
    },
    {
      "cell_type": "code",
      "metadata": {
        "id": "fyQ4gP46D-a3",
        "colab": {
          "base_uri": "https://localhost:8080/"
        },
        "outputId": "2010f553-9d69-4c31-84bb-4f5c3ce98aeb"
      },
      "source": [
        "data = MNIST(\".\", download=True)"
      ],
      "execution_count": null,
      "outputs": [
        {
          "output_type": "stream",
          "name": "stderr",
          "text": [
            "100%|██████████| 9.91M/9.91M [00:00<00:00, 17.9MB/s]\n",
            "100%|██████████| 28.9k/28.9k [00:00<00:00, 484kB/s]\n",
            "100%|██████████| 1.65M/1.65M [00:00<00:00, 4.47MB/s]\n",
            "100%|██████████| 4.54k/4.54k [00:00<00:00, 6.18MB/s]\n"
          ]
        }
      ]
    },
    {
      "cell_type": "code",
      "metadata": {
        "id": "wdfX2XnGD-a4",
        "colab": {
          "base_uri": "https://localhost:8080/"
        },
        "outputId": "d36be763-c8d7-4c54-d31c-135ab8cccc0c"
      },
      "source": [
        "len(data)"
      ],
      "execution_count": null,
      "outputs": [
        {
          "output_type": "execute_result",
          "data": {
            "text/plain": [
              "60000"
            ]
          },
          "metadata": {},
          "execution_count": 4
        }
      ]
    },
    {
      "cell_type": "code",
      "metadata": {
        "id": "s7fwSvMkD-a5",
        "colab": {
          "base_uri": "https://localhost:8080/",
          "height": 62
        },
        "outputId": "edec01de-d010-480c-ccb4-562904406262"
      },
      "source": [
        "import numpy as np\n",
        "\n",
        "img, y = data[np.random.randint(1, 60000)]\n",
        "print(y)\n",
        "img"
      ],
      "execution_count": null,
      "outputs": [
        {
          "output_type": "stream",
          "name": "stdout",
          "text": [
            "9\n"
          ]
        },
        {
          "output_type": "execute_result",
          "data": {
            "text/plain": [
              "<PIL.Image.Image image mode=L size=28x28>"
            ],
            "image/png": "[encoded data removed]",
            "image/jpeg": "[encoded data removed]"
          },
          "metadata": {},
          "execution_count": 73
        }
      ]
    },
    {
      "cell_type": "code",
      "source": [
        "img, y = data[2]\n",
        "img"
      ],
      "metadata": {
        "id": "qSkUnhyaWfGG",
        "colab": {
          "base_uri": "https://localhost:8080/",
          "height": 45
        },
        "outputId": "5394dce0-dd3e-4b7a-c33b-5d71d17e1249"
      },
      "execution_count": null,
      "outputs": [
        {
          "output_type": "execute_result",
          "data": {
            "text/plain": [
              "<PIL.Image.Image image mode=L size=28x28>"
            ],
            "image/png": "[encoded data removed]",
            "image/jpeg": "[encoded data removed]"
          },
          "metadata": {},
          "execution_count": 74
        }
      ]
    },
    {
      "cell_type": "code",
      "source": [
        "dir(data)"
      ],
      "metadata": {
        "colab": {
          "base_uri": "https://localhost:8080/"
        },
        "id": "QE1RB4gBQ18g",
        "outputId": "85dd554a-c5ce-4105-a7bc-f39ace4fb635"
      },
      "execution_count": null,
      "outputs": [
        {
          "output_type": "execute_result",
          "data": {
            "text/plain": [
              "['__add__',\n",
              " '__annotations__',\n",
              " '__class__',\n",
              " '__class_getitem__',\n",
              " '__delattr__',\n",
              " '__dict__',\n",
              " '__dir__',\n",
              " '__doc__',\n",
              " '__eq__',\n",
              " '__format__',\n",
              " '__ge__',\n",
              " '__getattribute__',\n",
              " '__getitem__',\n",
              " '__getstate__',\n",
              " '__gt__',\n",
              " '__hash__',\n",
              " '__init__',\n",
              " '__init_subclass__',\n",
              " '__le__',\n",
              " '__len__',\n",
              " '__lt__',\n",
              " '__module__',\n",
              " '__ne__',\n",
              " '__new__',\n",
              " '__orig_bases__',\n",
              " '__parameters__',\n",
              " '__reduce__',\n",
              " '__reduce_ex__',\n",
              " '__repr__',\n",
              " '__setattr__',\n",
              " '__sizeof__',\n",
              " '__slots__',\n",
              " '__str__',\n",
              " '__subclasshook__',\n",
              " '__weakref__',\n",
              " '_check_exists',\n",
              " '_check_legacy_exist',\n",
              " '_format_transform_repr',\n",
              " '_is_protocol',\n",
              " '_load_data',\n",
              " '_load_legacy_data',\n",
              " '_repr_indent',\n",
              " 'class_to_idx',\n",
              " 'classes',\n",
              " 'data',\n",
              " 'download',\n",
              " 'extra_repr',\n",
              " 'mirrors',\n",
              " 'processed_folder',\n",
              " 'raw_folder',\n",
              " 'resources',\n",
              " 'root',\n",
              " 'target_transform',\n",
              " 'targets',\n",
              " 'test_data',\n",
              " 'test_file',\n",
              " 'test_labels',\n",
              " 'train',\n",
              " 'train_data',\n",
              " 'train_labels',\n",
              " 'training_file',\n",
              " 'transform',\n",
              " 'transforms']"
            ]
          },
          "metadata": {},
          "execution_count": 75
        }
      ]
    },
    {
      "cell_type": "code",
      "source": [
        "pdata.test_data.shape"
      ],
      "metadata": {
        "id": "FzZMa_mPamd6"
      },
      "execution_count": null,
      "outputs": []
    },
    {
      "cell_type": "code",
      "source": [
        "print(data.train_data.shape)"
      ],
      "metadata": {
        "colab": {
          "base_uri": "https://localhost:8080/"
        },
        "id": "AIx9a8bxRAcd",
        "outputId": "87e31867-550f-4a00-ebfa-f98b04cf6957"
      },
      "execution_count": null,
      "outputs": [
        {
          "output_type": "stream",
          "name": "stdout",
          "text": [
            "torch.Size([60000, 28, 28])\n"
          ]
        }
      ]
    },
    {
      "cell_type": "code",
      "metadata": {
        "id": "3giZTnRiD-a-",
        "colab": {
          "base_uri": "https://localhost:8080/"
        },
        "outputId": "c2589ba2-ac7a-49d5-c64e-c2a3f02e3ce9"
      },
      "source": [
        "print(data.train_data[2].shape)"
      ],
      "execution_count": null,
      "outputs": [
        {
          "output_type": "stream",
          "name": "stdout",
          "text": [
            "torch.Size([28, 28])\n"
          ]
        }
      ]
    },
    {
      "cell_type": "code",
      "metadata": {
        "id": "nsZHdAMlD-a_",
        "colab": {
          "base_uri": "https://localhost:8080/"
        },
        "outputId": "6a99d6d7-5b21-4841-a5be-e613aef08897"
      },
      "source": [
        "print(data.train_labels[2])"
      ],
      "execution_count": null,
      "outputs": [
        {
          "output_type": "stream",
          "name": "stdout",
          "text": [
            "tensor(4)\n"
          ]
        },
        {
          "output_type": "stream",
          "name": "stderr",
          "text": [
            "/usr/local/lib/python3.11/dist-packages/torchvision/datasets/mnist.py:66: UserWarning: train_labels has been renamed targets\n",
            "  warnings.warn(\"train_labels has been renamed targets\")\n"
          ]
        }
      ]
    },
    {
      "cell_type": "markdown",
      "metadata": {
        "id": "ROmpaSMVD-bA"
      },
      "source": [
        "### MNIST Training"
      ]
    },
    {
      "cell_type": "code",
      "metadata": {
        "id": "qHhKarpfD-bB"
      },
      "source": [
        "model = torch.nn.Sequential(  # 28*28 = 784\n",
        "    torch.nn.Linear(784, 100),\n",
        "    torch.nn.ReLU(),\n",
        "    torch.nn.Linear(100, 100),\n",
        "    torch.nn.ReLU(),\n",
        "    torch.nn.Linear(100, 100),\n",
        "    torch.nn.ReLU(),\n",
        "    torch.nn.Linear(100, 10),\n",
        "    torch.nn.LogSoftmax(dim=1),\n",
        ").to(gpu)"
      ],
      "execution_count": null,
      "outputs": []
    },
    {
      "cell_type": "code",
      "metadata": {
        "id": "E8Q59QCED-bC"
      },
      "source": [
        "loss_fn = torch.nn.CrossEntropyLoss().to(gpu)"
      ],
      "execution_count": null,
      "outputs": []
    },
    {
      "cell_type": "code",
      "metadata": {
        "id": "ehneQZatD-bG"
      },
      "source": [
        "sample = np.random.choice(range(len(data.train_data)), 1000)\n",
        "x = data.train_data[sample].reshape(1000, -1).float() / 255\n",
        "yt = data.train_labels[sample]"
      ],
      "execution_count": null,
      "outputs": []
    },
    {
      "cell_type": "code",
      "metadata": {
        "id": "ucZS9UPAD-bJ",
        "colab": {
          "base_uri": "https://localhost:8080/"
        },
        "outputId": "e1cf626c-89a0-40f4-a67f-fcc760c4ec40"
      },
      "source": [
        "x.shape, yt.shape"
      ],
      "execution_count": null,
      "outputs": [
        {
          "output_type": "execute_result",
          "data": {
            "text/plain": [
              "(torch.Size([1000, 784]), torch.Size([1000]))"
            ]
          },
          "metadata": {},
          "execution_count": 85
        }
      ]
    },
    {
      "cell_type": "code",
      "source": [
        "print(model.parameters())"
      ],
      "metadata": {
        "colab": {
          "base_uri": "https://localhost:8080/"
        },
        "id": "3XECFt5PR-Ot",
        "outputId": "aab0a0db-244d-4066-8b82-a9e5a46e4d47"
      },
      "execution_count": null,
      "outputs": [
        {
          "output_type": "stream",
          "name": "stdout",
          "text": [
            "<generator object Module.parameters at 0x7f3d8e03cac0>\n"
          ]
        }
      ]
    },
    {
      "cell_type": "code",
      "metadata": {
        "id": "jdOxW-tYD-bK"
      },
      "source": [
        "optimizer = torch.optim.Adam(model.parameters(), lr=0.03)\n",
        "losses = []"
      ],
      "execution_count": null,
      "outputs": []
    },
    {
      "cell_type": "code",
      "metadata": {
        "id": "mMtNhgaED-bL",
        "colab": {
          "base_uri": "https://localhost:8080/",
          "height": 430
        },
        "outputId": "44f0dce2-d44f-40c2-87e5-f4e81e4d61d1"
      },
      "source": [
        "for i in range(1000):\n",
        "\n",
        "    sample = np.random.choice(range(len(data.data)), 1000)\n",
        "    x = data.data[sample].reshape(1000, -1).float() / 255\n",
        "    yt = data.targets[sample]\n",
        "\n",
        "    x = x.to(gpu)\n",
        "    yt = yt.to(gpu)\n",
        "\n",
        "    y = model(x)\n",
        "\n",
        "    # input (Tensor) – Predicted unnormalized logits\n",
        "    # target (Tensor) – Ground truth class indices or class probabilities\n",
        "    loss = loss_fn(y, yt)\n",
        "\n",
        "    loss.backward()\n",
        "\n",
        "    optimizer.step()\n",
        "    optimizer.zero_grad()\n",
        "\n",
        "    losses += [loss.item()]\n",
        "    # print( f\"loss = {loss}\")\n",
        "plt.plot(losses);"
      ],
      "execution_count": null,
      "outputs": [
        {
          "output_type": "display_data",
          "data": {
            "text/plain": [
              "<Figure size 640x480 with 1 Axes>"
            ],
            "image/png": "[encoded data removed]"
          },
          "metadata": {}
        }
      ]
    },
    {
      "cell_type": "code",
      "metadata": {
        "id": "1BAXeaKHD-bM",
        "colab": {
          "base_uri": "https://localhost:8080/"
        },
        "outputId": "14ec73d6-2eac-450f-e7af-a26720d3793d"
      },
      "source": [
        "x_test = data.train_data[-1000:].reshape(1000, -1).float() / 255\n",
        "y_test = data.train_labels[-1000:]\n",
        "\n",
        "model = model.cpu().eval() # sets the model to evaluation mode\n"
      ],
      "execution_count": null,
      "outputs": [
        {
          "output_type": "stream",
          "name": "stderr",
          "text": [
            "/usr/local/lib/python3.11/dist-packages/torchvision/datasets/mnist.py:76: UserWarning: train_data has been renamed data\n",
            "  warnings.warn(\"train_data has been renamed data\")\n",
            "/usr/local/lib/python3.11/dist-packages/torchvision/datasets/mnist.py:66: UserWarning: train_labels has been renamed targets\n",
            "  warnings.warn(\"train_labels has been renamed targets\")\n"
          ]
        }
      ]
    },
    {
      "cell_type": "code",
      "metadata": {
        "id": "5VXFOBCjD-bO"
      },
      "source": [
        "with torch.no_grad():\n",
        "    y_pred = model(x_test)"
      ],
      "execution_count": null,
      "outputs": []
    },
    {
      "cell_type": "code",
      "source": [
        "y_test[4]"
      ],
      "metadata": {
        "id": "Ms69eUDYYMGj",
        "colab": {
          "base_uri": "https://localhost:8080/"
        },
        "outputId": "98ebf824-3a0a-4f33-862c-c892d58a3379"
      },
      "execution_count": null,
      "outputs": [
        {
          "output_type": "execute_result",
          "data": {
            "text/plain": [
              "tensor(2)"
            ]
          },
          "metadata": {},
          "execution_count": 96
        }
      ]
    },
    {
      "cell_type": "code",
      "source": [
        "y_pred.argmax(dim=1)[4]"
      ],
      "metadata": {
        "id": "6oG-bennMI3Y",
        "colab": {
          "base_uri": "https://localhost:8080/"
        },
        "outputId": "a3de26b6-65b6-43f2-cc9f-339b0295d547"
      },
      "execution_count": null,
      "outputs": [
        {
          "output_type": "execute_result",
          "data": {
            "text/plain": [
              "tensor(2)"
            ]
          },
          "metadata": {},
          "execution_count": 97
        }
      ]
    },
    {
      "cell_type": "code",
      "metadata": {
        "id": "tt0c-JhpD-bP",
        "colab": {
          "base_uri": "https://localhost:8080/"
        },
        "outputId": "ad8589c4-2a90-4d3e-fa2c-d428b85bce74"
      },
      "source": [
        "print(\"Accuracy = \", (y_pred.argmax(dim=1) == y_test).sum().float().item() / 1000.0)"
      ],
      "execution_count": null,
      "outputs": [
        {
          "output_type": "stream",
          "name": "stdout",
          "text": [
            "Accuracy =  0.989\n"
          ]
        }
      ]
    },
    {
      "cell_type": "markdown",
      "metadata": {
        "id": "VY6m7c0qD-bQ"
      },
      "source": [
        "## Course Conclusion\n",
        "\n",
        "1. By now you should have a sufficient introduction to the various ways one can use python for scientific computing. The best way to learn more is to start using python for whatever project you are working on. Only practice will make you comfortable with using python.   \n",
        "\n",
        "- Recommended Project Source: kaggle  \n",
        "\n",
        "- Recommended ML/DL Courses: CS229, 230, 231N, 224 series, 238, 246  \n",
        "\n",
        "2. I appreciate your time to submit the course feedback, which means a lot to me and improvement for this course in the future  \n",
        "\n"
      ]
    }
  ]
}